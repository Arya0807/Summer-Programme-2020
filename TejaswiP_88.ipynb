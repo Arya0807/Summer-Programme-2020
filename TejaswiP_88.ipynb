{
 "cells": [
  {
   "cell_type": "code",
   "execution_count": 1,
   "metadata": {},
   "outputs": [],
   "source": [
    "import pandas as pd\n",
    "import numpy as np\n",
    "import matplotlib.pyplot as plt\n",
    "import random as rnd\n",
    "import seaborn as sns"
   ]
  },
  {
   "cell_type": "code",
   "execution_count": 2,
   "metadata": {},
   "outputs": [],
   "source": [
    "train=pd.read_csv(\"Trainfile.csv\")\n",
    "test=pd.read_csv(\"Testfile.csv\")"
   ]
  },
  {
   "cell_type": "code",
   "execution_count": 3,
   "metadata": {},
   "outputs": [
    {
     "data": {
      "text/plain": [
       "(1138, 81)"
      ]
     },
     "execution_count": 3,
     "metadata": {},
     "output_type": "execute_result"
    }
   ],
   "source": [
    "train.shape"
   ]
  },
  {
   "cell_type": "code",
   "execution_count": 4,
   "metadata": {},
   "outputs": [
    {
     "data": {
      "text/plain": [
       "(322, 81)"
      ]
     },
     "execution_count": 4,
     "metadata": {},
     "output_type": "execute_result"
    }
   ],
   "source": [
    "test.shape"
   ]
  },
  {
   "cell_type": "code",
   "execution_count": 5,
   "metadata": {},
   "outputs": [],
   "source": [
    "#dropping the 'Idx' column as it not useful in the prediction process\n",
    "train_ID = train['Idx']\n",
    "test_ID = test['Idx']\n",
    "train.drop(\"Idx\", axis = 1, inplace = True)\n",
    "test.drop(\"Idx\", axis = 1, inplace = True)"
   ]
  },
  {
   "cell_type": "code",
   "execution_count": 6,
   "metadata": {},
   "outputs": [
    {
     "name": "stdout",
     "output_type": "stream",
     "text": [
      "1138\n",
      "322\n",
      "all_data size is : (1460, 80)\n"
     ]
    }
   ],
   "source": [
    "ntrain = train.shape[0]\n",
    "print(train.shape[0])\n",
    "ntest = test.shape[0]\n",
    "print(test.shape[0])\n",
    "y_train = train.SalePrice.values.copy()\n",
    "y_test = test.SalePrice.values.copy()\n",
    "all_data = pd.concat((train, test), sort = 'True').reset_index(drop=True)\n",
    "print(\"all_data size is : {}\".format(all_data.shape))"
   ]
  },
  {
   "cell_type": "code",
   "execution_count": 7,
   "metadata": {},
   "outputs": [
    {
     "name": "stdout",
     "output_type": "stream",
     "text": [
      "<class 'pandas.core.frame.DataFrame'>\n",
      "RangeIndex: 1460 entries, 0 to 1459\n",
      "Data columns (total 80 columns):\n",
      "1stFlrSF         1460 non-null int64\n",
      "2ndFlrSF         1460 non-null int64\n",
      "3SsnPorch        1460 non-null int64\n",
      "Alley            91 non-null object\n",
      "BedroomAbvGr     1460 non-null int64\n",
      "BldgType         1460 non-null object\n",
      "BsmtCond         1423 non-null object\n",
      "BsmtExposure     1422 non-null object\n",
      "BsmtFinSF1       1460 non-null int64\n",
      "BsmtFinSF2       1460 non-null int64\n",
      "BsmtFinType1     1423 non-null object\n",
      "BsmtFinType2     1422 non-null object\n",
      "BsmtFullBath     1460 non-null int64\n",
      "BsmtHalfBath     1460 non-null int64\n",
      "BsmtQual         1423 non-null object\n",
      "BsmtUnfSF        1460 non-null int64\n",
      "CentralAir       1460 non-null object\n",
      "Condition1       1460 non-null object\n",
      "Condition2       1460 non-null object\n",
      "Electrical       1459 non-null object\n",
      "EnclosedPorch    1460 non-null int64\n",
      "ExterCond        1460 non-null object\n",
      "ExterQual        1460 non-null object\n",
      "Exterior1st      1460 non-null object\n",
      "Exterior2nd      1460 non-null object\n",
      "Fence            281 non-null object\n",
      "FireplaceQu      770 non-null object\n",
      "Fireplaces       1460 non-null int64\n",
      "Foundation       1460 non-null object\n",
      "FullBath         1460 non-null int64\n",
      "Functional       1460 non-null object\n",
      "GarageArea       1460 non-null int64\n",
      "GarageCars       1460 non-null int64\n",
      "GarageCond       1379 non-null object\n",
      "GarageFinish     1379 non-null object\n",
      "GarageQual       1379 non-null object\n",
      "GarageType       1379 non-null object\n",
      "GarageYrBlt      1379 non-null float64\n",
      "GrLivArea        1460 non-null int64\n",
      "HalfBath         1460 non-null int64\n",
      "Heating          1460 non-null object\n",
      "HeatingQC        1460 non-null object\n",
      "HouseStyle       1460 non-null object\n",
      "KitchenAbvGr     1460 non-null int64\n",
      "KitchenQual      1460 non-null object\n",
      "LandContour      1460 non-null object\n",
      "LandSlope        1460 non-null object\n",
      "LotArea          1460 non-null int64\n",
      "LotConfig        1460 non-null object\n",
      "LotFrontage      1201 non-null float64\n",
      "LotShape         1460 non-null object\n",
      "LowQualFinSF     1460 non-null int64\n",
      "MSSubClass       1460 non-null int64\n",
      "MSZoning         1460 non-null object\n",
      "MasVnrArea       1452 non-null float64\n",
      "MasVnrType       1452 non-null object\n",
      "MiscFeature      54 non-null object\n",
      "MiscVal          1460 non-null int64\n",
      "MoSold           1460 non-null int64\n",
      "Neighborhood     1460 non-null object\n",
      "OpenPorchSF      1460 non-null int64\n",
      "OverallCond      1460 non-null int64\n",
      "OverallQual      1460 non-null int64\n",
      "PavedDrive       1460 non-null object\n",
      "PoolArea         1460 non-null int64\n",
      "PoolQC           7 non-null object\n",
      "RoofMatl         1460 non-null object\n",
      "RoofStyle        1460 non-null object\n",
      "SaleCondition    1460 non-null object\n",
      "SalePrice        1460 non-null int64\n",
      "SaleType         1460 non-null object\n",
      "ScreenPorch      1460 non-null int64\n",
      "Street           1460 non-null object\n",
      "TotRmsAbvGrd     1460 non-null int64\n",
      "TotalBsmtSF      1460 non-null int64\n",
      "Utilities        1460 non-null object\n",
      "WoodDeckSF       1460 non-null int64\n",
      "YearBuilt        1460 non-null int64\n",
      "YearRemodAdd     1460 non-null int64\n",
      "YrSold           1460 non-null int64\n",
      "dtypes: float64(3), int64(34), object(43)\n",
      "memory usage: 912.6+ KB\n"
     ]
    }
   ],
   "source": [
    "all_data.info()"
   ]
  },
  {
   "cell_type": "code",
   "execution_count": 8,
   "metadata": {},
   "outputs": [
    {
     "name": "stderr",
     "output_type": "stream",
     "text": [
      "C:\\Users\\Tejaswi Pagadala\\Anaconda3\\lib\\site-packages\\ipykernel_launcher.py:1: FutureWarning: `get_dtype_counts` has been deprecated and will be removed in a future version. For DataFrames use `.dtypes.value_counts()\n",
      "  \"\"\"Entry point for launching an IPython kernel.\n"
     ]
    },
    {
     "data": {
      "text/plain": [
       "float64     3\n",
       "int64      34\n",
       "object     43\n",
       "dtype: int64"
      ]
     },
     "execution_count": 8,
     "metadata": {},
     "output_type": "execute_result"
    }
   ],
   "source": [
    "all_data.get_dtype_counts()"
   ]
  },
  {
   "cell_type": "code",
   "execution_count": 9,
   "metadata": {},
   "outputs": [
    {
     "data": {
      "text/plain": [
       "SalePrice        1.000000\n",
       "OverallQual      0.791583\n",
       "GrLivArea        0.696450\n",
       "GarageCars       0.643390\n",
       "GarageArea       0.622827\n",
       "TotalBsmtSF      0.583200\n",
       "1stFlrSF         0.571859\n",
       "FullBath         0.570665\n",
       "YearBuilt        0.529717\n",
       "TotRmsAbvGrd     0.523361\n",
       "YearRemodAdd     0.522126\n",
       "GarageYrBlt      0.495789\n",
       "MasVnrArea       0.458281\n",
       "Fireplaces       0.456931\n",
       "LotFrontage      0.370337\n",
       "2ndFlrSF         0.338577\n",
       "BsmtFinSF1       0.334695\n",
       "OpenPorchSF      0.316538\n",
       "WoodDeckSF       0.309539\n",
       "HalfBath         0.290770\n",
       "LotArea          0.284774\n",
       "BsmtUnfSF        0.238853\n",
       "BsmtFullBath     0.213439\n",
       "BedroomAbvGr     0.184831\n",
       "ScreenPorch      0.138973\n",
       "PoolArea         0.102545\n",
       "MoSold           0.095011\n",
       "3SsnPorch        0.064660\n",
       "BsmtFinSF2      -0.010924\n",
       "LowQualFinSF    -0.012313\n",
       "YrSold          -0.022898\n",
       "MiscVal         -0.025218\n",
       "BsmtHalfBath    -0.036891\n",
       "MSSubClass      -0.089530\n",
       "OverallCond     -0.100036\n",
       "EnclosedPorch   -0.139249\n",
       "KitchenAbvGr    -0.141781\n",
       "Name: SalePrice, dtype: float64"
      ]
     },
     "execution_count": 9,
     "metadata": {},
     "output_type": "execute_result"
    }
   ],
   "source": [
    "#Let us find the correlation of numerical features with the SalePrice\n",
    "correlation= train.corr()\n",
    "correlation=correlation['SalePrice'].sort_values(ascending=False)\n",
    "pos_correlation=correlation.head(all_data.shape[0])\n",
    "pos_correlation"
   ]
  },
  {
   "cell_type": "code",
   "execution_count": 10,
   "metadata": {},
   "outputs": [
    {
     "data": {
      "text/plain": [
       "<matplotlib.axes._subplots.AxesSubplot at 0x1da3ec9e8c8>"
      ]
     },
     "execution_count": 10,
     "metadata": {},
     "output_type": "execute_result"
    },
    {
     "data": {
      "image/png": "[encoded data removed]",
      "text/plain": [
       "<Figure size 1440x1152 with 2 Axes>"
      ]
     },
     "metadata": {
      "needs_background": "light"
     },
     "output_type": "display_data"
    }
   ],
   "source": [
    "corremap = all_data.corr()\n",
    "plt.subplots(figsize=(20,16))\n",
    "sns.heatmap(corremap, vmax=0.9, square=True)"
   ]
  },
  {
   "cell_type": "markdown",
   "metadata": {},
   "source": [
    "\n",
    "\n",
    "From the correlation map, we observe that:\n",
    "\n",
    "1.OverallQual, GrLivArea, TotalBsmtSF, GarrageCars, GarrageArea, 1stFlrSF, YearBuilt, FullBath(having correlation greater than 52%) are the most important Predictors.\n",
    "2.We can see from the above graph that how significantly they are related to our output variable \"SalePrice\"\n",
    "\n"
   ]
  },
  {
   "cell_type": "markdown",
   "metadata": {},
   "source": [
    "->Data Visualisation for better understanding of the data\n",
    "->Visualising some highly correlated features to get a clear idea\n"
   ]
  },
  {
   "cell_type": "code",
   "execution_count": 11,
   "metadata": {},
   "outputs": [
    {
     "data": {
      "text/plain": [
       "<matplotlib.axes._subplots.AxesSubplot at 0x1da3f101f08>"
      ]
     },
     "execution_count": 11,
     "metadata": {},
     "output_type": "execute_result"
    },
    {
     "data": {
      "image/png": "[encoded data removed]",
      "text/plain": [
       "<Figure size 576x360 with 1 Axes>"
      ]
     },
     "metadata": {
      "needs_background": "light"
     },
     "output_type": "display_data"
    }
   ],
   "source": [
    "#Sale price vs Overall quality \n",
    "plt.figure(figsize=[8,5])\n",
    "sns.regplot(all_data['OverallQual'], all_data['SalePrice'])"
   ]
  },
  {
   "cell_type": "code",
   "execution_count": 12,
   "metadata": {},
   "outputs": [
    {
     "data": {
      "text/plain": [
       "<matplotlib.axes._subplots.AxesSubplot at 0x1da3f182d48>"
      ]
     },
     "execution_count": 12,
     "metadata": {},
     "output_type": "execute_result"
    },
    {
     "data": {
      "image/png": "[encoded data removed]",
      "text/plain": [
       "<Figure size 576x360 with 1 Axes>"
      ]
     },
     "metadata": {
      "needs_background": "light"
     },
     "output_type": "display_data"
    }
   ],
   "source": [
    "#Sale price vs ground living area\n",
    "plt.figure(figsize=[8,5])\n",
    "sns.regplot(train['GrLivArea'], train['SalePrice'])"
   ]
  },
  {
   "cell_type": "code",
   "execution_count": 13,
   "metadata": {},
   "outputs": [
    {
     "data": {
      "text/plain": [
       "<matplotlib.axes._subplots.AxesSubplot at 0x1da3f1b1048>"
      ]
     },
     "execution_count": 13,
     "metadata": {},
     "output_type": "execute_result"
    },
    {
     "data": {
      "image/png": "[encoded data removed]",
      "text/plain": [
       "<Figure size 576x360 with 1 Axes>"
      ]
     },
     "metadata": {
      "needs_background": "light"
     },
     "output_type": "display_data"
    }
   ],
   "source": [
    "#Sale price vs garage cars\n",
    "plt.figure(figsize=[8,5])\n",
    "sns.regplot(train['GarageCars'], train['SalePrice'])"
   ]
  },
  {
   "cell_type": "code",
   "execution_count": 14,
   "metadata": {},
   "outputs": [
    {
     "data": {
      "text/plain": [
       "<matplotlib.axes._subplots.AxesSubplot at 0x1da3f25bc88>"
      ]
     },
     "execution_count": 14,
     "metadata": {},
     "output_type": "execute_result"
    },
    {
     "data": {
      "image/png": "[encoded data removed]",
      "text/plain": [
       "<Figure size 576x360 with 1 Axes>"
      ]
     },
     "metadata": {
      "needs_background": "light"
     },
     "output_type": "display_data"
    }
   ],
   "source": [
    "#Sale price vs garage area\n",
    "plt.figure(figsize=[8,5])\n",
    "sns.regplot(train['GarageArea'], train['SalePrice'])"
   ]
  },
  {
   "cell_type": "code",
   "execution_count": 15,
   "metadata": {},
   "outputs": [
    {
     "data": {
      "text/plain": [
       "<matplotlib.axes._subplots.AxesSubplot at 0x1da3f152c08>"
      ]
     },
     "execution_count": 15,
     "metadata": {},
     "output_type": "execute_result"
    },
    {
     "data": {
      "image/png": "[encoded data removed]",
      "text/plain": [
       "<Figure size 576x360 with 1 Axes>"
      ]
     },
     "metadata": {
      "needs_background": "light"
     },
     "output_type": "display_data"
    }
   ],
   "source": [
    "#Sale price vs TotalBsmtSF\n",
    "plt.figure(figsize=[8,5])\n",
    "sns.regplot(train['TotalBsmtSF'], train['SalePrice'])"
   ]
  },
  {
   "cell_type": "code",
   "execution_count": 16,
   "metadata": {},
   "outputs": [
    {
     "data": {
      "image/png": "[encoded data removed]",
      "text/plain": [
       "<Figure size 576x432 with 1 Axes>"
      ]
     },
     "metadata": {
      "needs_background": "light"
     },
     "output_type": "display_data"
    }
   ],
   "source": [
    "#now let us visualise some categorical features\n",
    "#box plot overallqual/saleprice\n",
    "var = 'OverallQual'\n",
    "data = pd.concat([all_data['SalePrice'], all_data[var]], axis=1)\n",
    "f, ax = plt.subplots(figsize=(8, 6))\n",
    "fig = sns.boxplot(x=var, y=\"SalePrice\", data=data)\n",
    "fig.axis(ymin=0, ymax=800000);"
   ]
  },
  {
   "cell_type": "code",
   "execution_count": 17,
   "metadata": {},
   "outputs": [
    {
     "data": {
      "image/png": "[encoded data removed]",
      "text/plain": [
       "<Figure size 576x432 with 1 Axes>"
      ]
     },
     "metadata": {
      "needs_background": "light"
     },
     "output_type": "display_data"
    }
   ],
   "source": [
    "#box plot landcontour/saleprice\n",
    "var = 'SaleCondition'\n",
    "data = pd.concat([all_data['SalePrice'], all_data[var]], axis=1)\n",
    "f, ax = plt.subplots(figsize=(8, 6))\n",
    "fig = sns.boxplot(x=var, y=\"SalePrice\", data=data)\n",
    "fig.axis(ymin=0, ymax=800000);"
   ]
  },
  {
   "cell_type": "code",
   "execution_count": 18,
   "metadata": {},
   "outputs": [
    {
     "data": {
      "image/png": "[encoded data removed]",
      "text/plain": [
       "<Figure size 576x432 with 1 Axes>"
      ]
     },
     "metadata": {
      "needs_background": "light"
     },
     "output_type": "display_data"
    }
   ],
   "source": [
    "var = 'BsmtCond'\n",
    "data = pd.concat([all_data['SalePrice'], all_data[var]], axis=1)\n",
    "f, ax = plt.subplots(figsize=(8, 6))\n",
    "fig = sns.boxplot(x=var, y=\"SalePrice\", data=data)\n",
    "fig.axis(ymin=0, ymax=800000);"
   ]
  },
  {
   "cell_type": "code",
   "execution_count": 19,
   "metadata": {},
   "outputs": [
    {
     "data": {
      "image/png": "[encoded data removed]",
      "text/plain": [
       "<Figure size 576x432 with 1 Axes>"
      ]
     },
     "metadata": {
      "needs_background": "light"
     },
     "output_type": "display_data"
    }
   ],
   "source": [
    "var = 'GarageQual'\n",
    "data = pd.concat([all_data['SalePrice'], all_data[var]], axis=1)\n",
    "f, ax = plt.subplots(figsize=(8, 6))\n",
    "fig = sns.boxplot(x=var, y=\"SalePrice\", data=data)\n",
    "fig.axis(ymin=0, ymax=800000);"
   ]
  },
  {
   "cell_type": "code",
   "execution_count": 20,
   "metadata": {},
   "outputs": [
    {
     "data": {
      "image/png": "[encoded data removed]",
      "text/plain": [
       "<Figure size 576x432 with 1 Axes>"
      ]
     },
     "metadata": {
      "needs_background": "light"
     },
     "output_type": "display_data"
    }
   ],
   "source": [
    "var = 'KitchenQual'\n",
    "data = pd.concat([all_data['SalePrice'], all_data[var]], axis=1)\n",
    "f, ax = plt.subplots(figsize=(8, 6))\n",
    "fig = sns.boxplot(x=var, y=\"SalePrice\", data=data)\n",
    "fig.axis(ymin=0, ymax=800000);"
   ]
  },
  {
   "cell_type": "code",
   "execution_count": 21,
   "metadata": {},
   "outputs": [],
   "source": [
    "all_data['haspool'] = all_data['PoolArea'].apply(lambda x: 1 if x > 0 else 0)\n",
    "all_data ['has2ndfloor'] = all_data['2ndFlrSF'].apply(lambda x: 1 if x > 0 else 0)\n",
    "all_data['hasgarage'] = all_data['GarageArea'].apply(lambda x: 1 if x > 0 else 0)\n",
    "all_data['hasbsmt'] = all_data['TotalBsmtSF'].apply(lambda x: 1 if x > 0 else 0)\n",
    "all_data['hasfireplace'] = all_data['Fireplaces'].apply(lambda x: 1 if x > 0 else 0)"
   ]
  },
  {
   "cell_type": "code",
   "execution_count": null,
   "metadata": {},
   "outputs": [],
   "source": []
  },
  {
   "cell_type": "code",
   "execution_count": 22,
   "metadata": {},
   "outputs": [
    {
     "data": {
      "text/plain": [
       "PoolQC          1453\n",
       "MiscFeature     1406\n",
       "Alley           1369\n",
       "Fence           1179\n",
       "FireplaceQu      690\n",
       "                ... \n",
       "MoSold             0\n",
       "Neighborhood       0\n",
       "OpenPorchSF        0\n",
       "OverallCond        0\n",
       "1stFlrSF           0\n",
       "Length: 85, dtype: int64"
      ]
     },
     "execution_count": 22,
     "metadata": {},
     "output_type": "execute_result"
    }
   ],
   "source": [
    "#dealing with missing values\n",
    "#number of missing values in each column\n",
    "all_data.isnull().sum().sort_values(ascending = False)"
   ]
  },
  {
   "cell_type": "code",
   "execution_count": 23,
   "metadata": {},
   "outputs": [
    {
     "data": {
      "text/plain": [
       "PoolQC          99.520548\n",
       "MiscFeature     96.301370\n",
       "Alley           93.767123\n",
       "Fence           80.753425\n",
       "FireplaceQu     47.260274\n",
       "                  ...    \n",
       "MoSold           0.000000\n",
       "Neighborhood     0.000000\n",
       "OpenPorchSF      0.000000\n",
       "OverallCond      0.000000\n",
       "1stFlrSF         0.000000\n",
       "Length: 85, dtype: float64"
      ]
     },
     "execution_count": 23,
     "metadata": {},
     "output_type": "execute_result"
    }
   ],
   "source": [
    "#percentage of missing values\n",
    "missing_values = (all_data.isnull().sum()/all_data.shape[0]) * 100\n",
    "missing_values.sort_values(ascending = False)"
   ]
  },
  {
   "cell_type": "code",
   "execution_count": 24,
   "metadata": {},
   "outputs": [
    {
     "data": {
      "text/plain": [
       "<matplotlib.axes._subplots.AxesSubplot at 0x1da40c10bc8>"
      ]
     },
     "execution_count": 24,
     "metadata": {},
     "output_type": "execute_result"
    },
    {
     "data": {
      "image/png": "[encoded data removed]",
      "text/plain": [
       "<Figure size 432x288 with 1 Axes>"
      ]
     },
     "metadata": {
      "needs_background": "light"
     },
     "output_type": "display_data"
    }
   ],
   "source": [
    "sns.heatmap(all_data.isnull(), yticklabels = False, cbar = False, cmap = 'plasma')"
   ]
  },
  {
   "cell_type": "code",
   "execution_count": 25,
   "metadata": {},
   "outputs": [
    {
     "data": {
      "text/plain": [
       "<Figure size 1008x648 with 0 Axes>"
      ]
     },
     "metadata": {},
     "output_type": "display_data"
    },
    {
     "data": {
      "image/png": "[encoded data removed]",
      "text/plain": [
       "<Figure size 432x288 with 1 Axes>"
      ]
     },
     "metadata": {
      "needs_background": "light"
     },
     "output_type": "display_data"
    }
   ],
   "source": [
    "missing_data = (all_data.isnull().sum() / len(all_data)).sort_values(ascending = False)*100\n",
    "\n",
    "missing_data = pd.DataFrame(missing_data)\n",
    "\n",
    "plt.figure(figsize = (14,9))\n",
    "missing_data.head(20).plot(kind = 'bar')\n",
    "plt.title('Percent of missing data');"
   ]
  },
  {
   "cell_type": "code",
   "execution_count": 26,
   "metadata": {},
   "outputs": [],
   "source": [
    "#We divide the data into numerical and categorical data for easy preprocessing\n",
    "num_features=all_data.select_dtypes(include=['int64','float64'])\n",
    "categorical_features=all_data.select_dtypes(include='object')"
   ]
  },
  {
   "cell_type": "code",
   "execution_count": 27,
   "metadata": {},
   "outputs": [
    {
     "data": {
      "text/plain": [
       "(1460, 42)"
      ]
     },
     "execution_count": 27,
     "metadata": {},
     "output_type": "execute_result"
    }
   ],
   "source": [
    "num_features.shape"
   ]
  },
  {
   "cell_type": "code",
   "execution_count": 28,
   "metadata": {},
   "outputs": [
    {
     "data": {
      "text/plain": [
       "<bound method NDFrame.describe of       1stFlrSF  2ndFlrSF  3SsnPorch  BedroomAbvGr  BsmtFinSF1  BsmtFinSF2  \\\n",
       "0          832         0          0             2           0           0   \n",
       "1         1542      1330          0             4         896           0   \n",
       "2          899         0          0             3         450           0   \n",
       "3         1133      1349          0             4           0           0   \n",
       "4         2402         0          0             2        1767         539   \n",
       "...        ...       ...        ...           ...         ...         ...   \n",
       "1455       990         0          0             3         495           0   \n",
       "1456      1496       636          0             1        1441           0   \n",
       "1457      1264         0          0             3         697           0   \n",
       "1458      1675      1818          0             3           0           0   \n",
       "1459      1634         0          0             3           0           0   \n",
       "\n",
       "      BsmtFullBath  BsmtHalfBath  BsmtUnfSF  EnclosedPorch  ...  TotalBsmtSF  \\\n",
       "0                0             0        832              0  ...          832   \n",
       "1                1             0        434              0  ...         1330   \n",
       "2                0             0        414              0  ...          864   \n",
       "3                0             0       1094              0  ...         1094   \n",
       "4                1             0        788              0  ...         3094   \n",
       "...            ...           ...        ...            ...  ...          ...   \n",
       "1455             0             0        495              0  ...          990   \n",
       "1456             1             0         55              0  ...         1496   \n",
       "1457             1             0        571              0  ...         1268   \n",
       "1458             0             0       1470              0  ...         1470   \n",
       "1459             0             0       1626              0  ...         1626   \n",
       "\n",
       "      WoodDeckSF  YearBuilt  YearRemodAdd  YrSold  haspool  has2ndfloor  \\\n",
       "0              0       1954          1954    2008        0            0   \n",
       "1            550       1977          1995    2008        0            1   \n",
       "2             64       1967          2004    2009        0            0   \n",
       "3            144       2005          2006    2007        0            1   \n",
       "4              0       2008          2008    2009        0            0   \n",
       "...          ...        ...           ...     ...      ...          ...   \n",
       "1455           0       1994          1994    2007        0            0   \n",
       "1456         349       1983          2009    2009        0            1   \n",
       "1457           0       1960          1960    2010        0            0   \n",
       "1458         302       1880          2002    2008        0            1   \n",
       "1459           0       2006          2006    2007        0            0   \n",
       "\n",
       "      hasgarage  hasbsmt  hasfireplace  \n",
       "0             1        1             0  \n",
       "1             1        1             1  \n",
       "2             1        1             0  \n",
       "3             1        1             1  \n",
       "4             1        1             1  \n",
       "...         ...      ...           ...  \n",
       "1455          1        1             0  \n",
       "1456          1        1             1  \n",
       "1457          1        1             1  \n",
       "1458          1        1             1  \n",
       "1459          1        1             1  \n",
       "\n",
       "[1460 rows x 42 columns]>"
      ]
     },
     "execution_count": 28,
     "metadata": {},
     "output_type": "execute_result"
    }
   ],
   "source": [
    "num_features.describe"
   ]
  },
  {
   "cell_type": "code",
   "execution_count": 29,
   "metadata": {},
   "outputs": [
    {
     "data": {
      "text/plain": [
       "<bound method NDFrame.describe of      Alley BldgType BsmtCond BsmtExposure BsmtFinType1 BsmtFinType2 BsmtQual  \\\n",
       "0      NaN     1Fam       TA           No          Unf          Unf       TA   \n",
       "1      NaN     1Fam       Gd           No          ALQ          Unf       Gd   \n",
       "2      NaN     1Fam       TA           No          ALQ          Unf       TA   \n",
       "3      NaN     1Fam       Gd           Gd          Unf          Unf       Gd   \n",
       "4      NaN     1Fam       TA           Gd          GLQ          ALQ       Ex   \n",
       "...    ...      ...      ...          ...          ...          ...      ...   \n",
       "1455   NaN     1Fam       TA           No          GLQ          Unf       Gd   \n",
       "1456   NaN     1Fam       TA           Gd          GLQ          Unf       Gd   \n",
       "1457   NaN     1Fam       TA           No          Rec          Unf       TA   \n",
       "1458   NaN     1Fam       TA           No          Unf          Unf       TA   \n",
       "1459   NaN     1Fam       TA           No          Unf          Unf       Gd   \n",
       "\n",
       "     CentralAir Condition1 Condition2  ... MiscFeature Neighborhood  \\\n",
       "0             Y     Artery       Norm  ...         NaN        NAmes   \n",
       "1             Y       PosN       Norm  ...         NaN       NWAmes   \n",
       "2             Y       Norm       Norm  ...         NaN       Sawyer   \n",
       "3             Y       Norm       Norm  ...         NaN       Timber   \n",
       "4             Y       Norm       Norm  ...         NaN      NridgHt   \n",
       "...         ...        ...        ...  ...         ...          ...   \n",
       "1455          Y       Norm       Norm  ...         NaN      CollgCr   \n",
       "1456          Y       Norm       Norm  ...         NaN      SawyerW   \n",
       "1457          Y      Feedr       Norm  ...         NaN        NAmes   \n",
       "1458          Y       Norm       Norm  ...         NaN      OldTown   \n",
       "1459          Y       Norm       Norm  ...         NaN      NridgHt   \n",
       "\n",
       "     PavedDrive PoolQC RoofMatl RoofStyle SaleCondition SaleType Street  \\\n",
       "0             Y    NaN  CompShg     Gable        Normal       WD   Pave   \n",
       "1             Y    NaN  CompShg     Gable        Normal       WD   Pave   \n",
       "2             Y    NaN  CompShg       Hip        Normal       WD   Pave   \n",
       "3             Y    NaN  CompShg       Hip        Normal       WD   Pave   \n",
       "4             Y    NaN  CompShg       Hip        Normal       WD   Pave   \n",
       "...         ...    ...      ...       ...           ...      ...    ...   \n",
       "1455          Y    NaN  CompShg     Gable        Normal       WD   Pave   \n",
       "1456          Y    NaN  CompShg     Gable        Normal       WD   Pave   \n",
       "1457          Y    NaN  CompShg     Gable        Normal       WD   Pave   \n",
       "1458          Y    NaN  CompShg     Gable        Normal       WD   Pave   \n",
       "1459          Y    NaN  CompShg     Gable        Normal       WD   Pave   \n",
       "\n",
       "     Utilities  \n",
       "0       AllPub  \n",
       "1       AllPub  \n",
       "2       AllPub  \n",
       "3       AllPub  \n",
       "4       AllPub  \n",
       "...        ...  \n",
       "1455    AllPub  \n",
       "1456    AllPub  \n",
       "1457    AllPub  \n",
       "1458    AllPub  \n",
       "1459    AllPub  \n",
       "\n",
       "[1460 rows x 43 columns]>"
      ]
     },
     "execution_count": 29,
     "metadata": {},
     "output_type": "execute_result"
    }
   ],
   "source": [
    "categorical_features.describe"
   ]
  },
  {
   "cell_type": "code",
   "execution_count": 30,
   "metadata": {},
   "outputs": [
    {
     "data": {
      "text/plain": [
       "LotFrontage      17.739726\n",
       "GarageYrBlt       5.547945\n",
       "MasVnrArea        0.547945\n",
       "hasfireplace      0.000000\n",
       "Fireplaces        0.000000\n",
       "KitchenAbvGr      0.000000\n",
       "HalfBath          0.000000\n",
       "GrLivArea         0.000000\n",
       "GarageCars        0.000000\n",
       "GarageArea        0.000000\n",
       "FullBath          0.000000\n",
       "EnclosedPorch     0.000000\n",
       "BsmtUnfSF         0.000000\n",
       "BsmtHalfBath      0.000000\n",
       "BsmtFullBath      0.000000\n",
       "BsmtFinSF2        0.000000\n",
       "BsmtFinSF1        0.000000\n",
       "BedroomAbvGr      0.000000\n",
       "3SsnPorch         0.000000\n",
       "2ndFlrSF          0.000000\n",
       "LotArea           0.000000\n",
       "LowQualFinSF      0.000000\n",
       "hasbsmt           0.000000\n",
       "MSSubClass        0.000000\n",
       "hasgarage         0.000000\n",
       "has2ndfloor       0.000000\n",
       "haspool           0.000000\n",
       "YrSold            0.000000\n",
       "YearRemodAdd      0.000000\n",
       "YearBuilt         0.000000\n",
       "WoodDeckSF        0.000000\n",
       "TotalBsmtSF       0.000000\n",
       "TotRmsAbvGrd      0.000000\n",
       "ScreenPorch       0.000000\n",
       "SalePrice         0.000000\n",
       "PoolArea          0.000000\n",
       "OverallQual       0.000000\n",
       "OverallCond       0.000000\n",
       "OpenPorchSF       0.000000\n",
       "MoSold            0.000000\n",
       "MiscVal           0.000000\n",
       "1stFlrSF          0.000000\n",
       "dtype: float64"
      ]
     },
     "execution_count": 30,
     "metadata": {},
     "output_type": "execute_result"
    }
   ],
   "source": [
    "#percentage of missing values in numerical features\n",
    "missing_values = (num_features.isnull().sum()/num_features.shape[0]) * 100\n",
    "missing_values.sort_values(ascending = False)"
   ]
  },
  {
   "cell_type": "code",
   "execution_count": 31,
   "metadata": {},
   "outputs": [],
   "source": [
    "\"\"\"LotFrontage : Since the area of each street connected to the house property most likely to have a similar area \n",
    "   to other houses in its neighborhood , we can fill in missing values by the median LotFrontage of the neighborhood.\"\"\"\n",
    "\n",
    "all_data[\"LotFrontage\"] = all_data.groupby(\"Neighborhood\")[\"LotFrontage\"].transform(\n",
    "    lambda x: x.fillna(x.median()))"
   ]
  },
  {
   "cell_type": "code",
   "execution_count": 32,
   "metadata": {},
   "outputs": [
    {
     "data": {
      "text/plain": [
       "0"
      ]
     },
     "execution_count": 32,
     "metadata": {},
     "output_type": "execute_result"
    }
   ],
   "source": [
    "all_data['LotFrontage'].isnull().sum()"
   ]
  },
  {
   "cell_type": "code",
   "execution_count": 33,
   "metadata": {},
   "outputs": [],
   "source": [
    "'''The following variables are either discrete numerical or continuous numerical variables.So the will be imputed by median.'''\n",
    "to_impute_by_median = all_data.loc[:, ['MasVnrArea', 'GarageYrBlt']]\n",
    "for i in to_impute_by_median.columns:\n",
    "    all_data[i].fillna(all_data[i].median(), inplace = True)"
   ]
  },
  {
   "cell_type": "code",
   "execution_count": 34,
   "metadata": {},
   "outputs": [
    {
     "data": {
      "text/plain": [
       "0"
      ]
     },
     "execution_count": 34,
     "metadata": {},
     "output_type": "execute_result"
    }
   ],
   "source": [
    "all_data['GarageYrBlt'].isnull().sum()"
   ]
  },
  {
   "cell_type": "code",
   "execution_count": 35,
   "metadata": {},
   "outputs": [
    {
     "data": {
      "text/plain": [
       "0"
      ]
     },
     "execution_count": 35,
     "metadata": {},
     "output_type": "execute_result"
    }
   ],
   "source": [
    "all_data['MasVnrArea'].isnull().sum()"
   ]
  },
  {
   "cell_type": "code",
   "execution_count": 36,
   "metadata": {},
   "outputs": [
    {
     "data": {
      "text/plain": [
       "PoolQC           99.520548\n",
       "MiscFeature      96.301370\n",
       "Alley            93.767123\n",
       "Fence            80.753425\n",
       "FireplaceQu      47.260274\n",
       "GarageCond        5.547945\n",
       "GarageFinish      5.547945\n",
       "GarageType        5.547945\n",
       "GarageQual        5.547945\n",
       "BsmtExposure      2.602740\n",
       "BsmtFinType2      2.602740\n",
       "BsmtCond          2.534247\n",
       "BsmtFinType1      2.534247\n",
       "BsmtQual          2.534247\n",
       "MasVnrType        0.547945\n",
       "Electrical        0.068493\n",
       "Neighborhood      0.000000\n",
       "ExterCond         0.000000\n",
       "Exterior2nd       0.000000\n",
       "Exterior1st       0.000000\n",
       "ExterQual         0.000000\n",
       "CentralAir        0.000000\n",
       "Condition2        0.000000\n",
       "Condition1        0.000000\n",
       "BldgType          0.000000\n",
       "SaleType          0.000000\n",
       "SaleCondition     0.000000\n",
       "Foundation        0.000000\n",
       "Functional        0.000000\n",
       "RoofStyle         0.000000\n",
       "RoofMatl          0.000000\n",
       "Street            0.000000\n",
       "PavedDrive        0.000000\n",
       "Heating           0.000000\n",
       "HeatingQC         0.000000\n",
       "HouseStyle        0.000000\n",
       "KitchenQual       0.000000\n",
       "LandContour       0.000000\n",
       "LandSlope         0.000000\n",
       "LotConfig         0.000000\n",
       "LotShape          0.000000\n",
       "MSZoning          0.000000\n",
       "Utilities         0.000000\n",
       "dtype: float64"
      ]
     },
     "execution_count": 36,
     "metadata": {},
     "output_type": "execute_result"
    }
   ],
   "source": [
    "#percentage of missing values in categorical features\n",
    "missing_values = (categorical_features.isnull().sum()/categorical_features.shape[0]) * 100\n",
    "missing_values.sort_values(ascending = False)"
   ]
  },
  {
   "cell_type": "code",
   "execution_count": 37,
   "metadata": {},
   "outputs": [
    {
     "name": "stderr",
     "output_type": "stream",
     "text": [
      "C:\\Users\\Tejaswi Pagadala\\Anaconda3\\lib\\site-packages\\pandas\\core\\frame.py:4102: SettingWithCopyWarning: \n",
      "A value is trying to be set on a copy of a slice from a DataFrame\n",
      "\n",
      "See the caveats in the documentation: http://pandas.pydata.org/pandas-docs/stable/user_guide/indexing.html#returning-a-view-versus-a-copy\n",
      "  errors=errors,\n"
     ]
    }
   ],
   "source": [
    "#Let us now drop some categprical features that are not so useful\n",
    "\n",
    "\n",
    "categorical_features.drop('FireplaceQu', axis=1, inplace=True)\n"
   ]
  },
  {
   "cell_type": "code",
   "execution_count": null,
   "metadata": {},
   "outputs": [],
   "source": []
  },
  {
   "cell_type": "markdown",
   "metadata": {},
   "source": [
    "Variables like PoolQC, MiscFeature, Alley, Fence, and FirePlaceQu have most missing variables. Usually we drop a variable if more than 40-50% of its values are missing. Hence, one might drop variables like PoolQC, MiscFeature, Alley, Fence, and FirePlaceQu. Deleting these variables would be a mistake because NaN means that the variable is absent. Like 'NaN' in PoolQC refers to 'No Pool', 'NaN' in MiscFeature refers to 'None', and 'NaN' in Alley means 'No alley' etc. "
   ]
  },
  {
   "cell_type": "code",
   "execution_count": 38,
   "metadata": {},
   "outputs": [],
   "source": [
    "'''fill None where NaN means something.'''\n",
    "to_impute_by_none = all_data.loc[:, ['GarageType', 'GarageCond','GarageFinish','GarageQual','BsmtFinType2','BsmtExposure','BsmtQual','BsmtCond','BsmtFinType1','MasVnrType']]\n",
    "for i in to_impute_by_none.columns:\n",
    "    all_data[i].fillna('None', inplace = True)"
   ]
  },
  {
   "cell_type": "code",
   "execution_count": 39,
   "metadata": {},
   "outputs": [],
   "source": [
    "'''for electricity (categorical variable) and will be imputed by mode.'''\n",
    "to_impute_by_mode =  all_data.loc[:, ['Electrical']]\n",
    "for i in to_impute_by_mode.columns:\n",
    "    all_data[i].fillna(all_data[i].mode()[0], inplace = True)"
   ]
  },
  {
   "cell_type": "code",
   "execution_count": 40,
   "metadata": {},
   "outputs": [
    {
     "name": "stdout",
     "output_type": "stream",
     "text": [
      "0\n",
      "0\n",
      "0\n",
      "0\n",
      "0\n",
      "0\n",
      "0\n",
      "0\n",
      "0\n",
      "0\n"
     ]
    }
   ],
   "source": [
    "missing_val_col = [\n",
    "                   \"GarageType\",\n",
    "                   \"GarageFinish\",\n",
    "                   \"GarageQual\",\n",
    "                   \"GarageCond\",\n",
    "                   'BsmtQual',\n",
    "                   'BsmtCond',\n",
    "                   'BsmtExposure',\n",
    "                   'BsmtFinType1',\n",
    "                   'BsmtFinType2',\n",
    "                   'MasVnrType']\n",
    "\n",
    "for i in missing_val_col:\n",
    "    print(all_data[i].isnull().sum())"
   ]
  },
  {
   "cell_type": "code",
   "execution_count": 41,
   "metadata": {},
   "outputs": [
    {
     "data": {
      "text/plain": [
       "0"
      ]
     },
     "execution_count": 41,
     "metadata": {},
     "output_type": "execute_result"
    }
   ],
   "source": [
    "all_data['Electrical'].isnull().sum()"
   ]
  },
  {
   "cell_type": "code",
   "execution_count": 42,
   "metadata": {},
   "outputs": [
    {
     "data": {
      "text/plain": [
       "PoolQC          99.520548\n",
       "MiscFeature     96.301370\n",
       "Alley           93.767123\n",
       "Fence           80.753425\n",
       "FireplaceQu     47.260274\n",
       "                  ...    \n",
       "MiscVal          0.000000\n",
       "MoSold           0.000000\n",
       "Neighborhood     0.000000\n",
       "OpenPorchSF      0.000000\n",
       "1stFlrSF         0.000000\n",
       "Length: 85, dtype: float64"
      ]
     },
     "execution_count": 42,
     "metadata": {},
     "output_type": "execute_result"
    }
   ],
   "source": [
    "#percentage of missing values\n",
    "missing_values = (all_data.isnull().sum()/all_data.shape[0]) * 100\n",
    "missing_values.sort_values(ascending = False)"
   ]
  },
  {
   "cell_type": "markdown",
   "metadata": {},
   "source": [
    "Once we are done handling missing values, we have to focus our attention on feature selection.We have to convert categorical variables into numerical variables in order to help predict our hypothesis"
   ]
  },
  {
   "cell_type": "code",
   "execution_count": 43,
   "metadata": {},
   "outputs": [
    {
     "data": {
      "text/plain": [
       "42"
      ]
     },
     "execution_count": 43,
     "metadata": {},
     "output_type": "execute_result"
    }
   ],
   "source": [
    "categorical_features.shape[1]"
   ]
  },
  {
   "cell_type": "markdown",
   "metadata": {},
   "source": [
    "Before performing label encoding or one hot encoding , we need to convert categorical variables into the dtype 'category'"
   ]
  },
  {
   "cell_type": "code",
   "execution_count": 44,
   "metadata": {},
   "outputs": [
    {
     "data": {
      "text/html": [
       "<div>\n",
       "<style scoped>\n",
       "    .dataframe tbody tr th:only-of-type {\n",
       "        vertical-align: middle;\n",
       "    }\n",
       "\n",
       "    .dataframe tbody tr th {\n",
       "        vertical-align: top;\n",
       "    }\n",
       "\n",
       "    .dataframe thead th {\n",
       "        text-align: right;\n",
       "    }\n",
       "</style>\n",
       "<table border=\"1\" class=\"dataframe\">\n",
       "  <thead>\n",
       "    <tr style=\"text-align: right;\">\n",
       "      <th></th>\n",
       "      <th>Alley</th>\n",
       "      <th>BldgType</th>\n",
       "      <th>BsmtCond</th>\n",
       "      <th>BsmtExposure</th>\n",
       "      <th>BsmtFinType1</th>\n",
       "      <th>BsmtFinType2</th>\n",
       "      <th>BsmtQual</th>\n",
       "      <th>CentralAir</th>\n",
       "      <th>Condition1</th>\n",
       "      <th>Condition2</th>\n",
       "      <th>...</th>\n",
       "      <th>MiscFeature</th>\n",
       "      <th>Neighborhood</th>\n",
       "      <th>PavedDrive</th>\n",
       "      <th>PoolQC</th>\n",
       "      <th>RoofMatl</th>\n",
       "      <th>RoofStyle</th>\n",
       "      <th>SaleCondition</th>\n",
       "      <th>SaleType</th>\n",
       "      <th>Street</th>\n",
       "      <th>Utilities</th>\n",
       "    </tr>\n",
       "  </thead>\n",
       "  <tbody>\n",
       "    <tr>\n",
       "      <td>0</td>\n",
       "      <td>NaN</td>\n",
       "      <td>1Fam</td>\n",
       "      <td>TA</td>\n",
       "      <td>No</td>\n",
       "      <td>Unf</td>\n",
       "      <td>Unf</td>\n",
       "      <td>TA</td>\n",
       "      <td>Y</td>\n",
       "      <td>Artery</td>\n",
       "      <td>Norm</td>\n",
       "      <td>...</td>\n",
       "      <td>NaN</td>\n",
       "      <td>NAmes</td>\n",
       "      <td>Y</td>\n",
       "      <td>NaN</td>\n",
       "      <td>CompShg</td>\n",
       "      <td>Gable</td>\n",
       "      <td>Normal</td>\n",
       "      <td>WD</td>\n",
       "      <td>Pave</td>\n",
       "      <td>AllPub</td>\n",
       "    </tr>\n",
       "    <tr>\n",
       "      <td>1</td>\n",
       "      <td>NaN</td>\n",
       "      <td>1Fam</td>\n",
       "      <td>Gd</td>\n",
       "      <td>No</td>\n",
       "      <td>ALQ</td>\n",
       "      <td>Unf</td>\n",
       "      <td>Gd</td>\n",
       "      <td>Y</td>\n",
       "      <td>PosN</td>\n",
       "      <td>Norm</td>\n",
       "      <td>...</td>\n",
       "      <td>NaN</td>\n",
       "      <td>NWAmes</td>\n",
       "      <td>Y</td>\n",
       "      <td>NaN</td>\n",
       "      <td>CompShg</td>\n",
       "      <td>Gable</td>\n",
       "      <td>Normal</td>\n",
       "      <td>WD</td>\n",
       "      <td>Pave</td>\n",
       "      <td>AllPub</td>\n",
       "    </tr>\n",
       "    <tr>\n",
       "      <td>2</td>\n",
       "      <td>NaN</td>\n",
       "      <td>1Fam</td>\n",
       "      <td>TA</td>\n",
       "      <td>No</td>\n",
       "      <td>ALQ</td>\n",
       "      <td>Unf</td>\n",
       "      <td>TA</td>\n",
       "      <td>Y</td>\n",
       "      <td>Norm</td>\n",
       "      <td>Norm</td>\n",
       "      <td>...</td>\n",
       "      <td>NaN</td>\n",
       "      <td>Sawyer</td>\n",
       "      <td>Y</td>\n",
       "      <td>NaN</td>\n",
       "      <td>CompShg</td>\n",
       "      <td>Hip</td>\n",
       "      <td>Normal</td>\n",
       "      <td>WD</td>\n",
       "      <td>Pave</td>\n",
       "      <td>AllPub</td>\n",
       "    </tr>\n",
       "    <tr>\n",
       "      <td>3</td>\n",
       "      <td>NaN</td>\n",
       "      <td>1Fam</td>\n",
       "      <td>Gd</td>\n",
       "      <td>Gd</td>\n",
       "      <td>Unf</td>\n",
       "      <td>Unf</td>\n",
       "      <td>Gd</td>\n",
       "      <td>Y</td>\n",
       "      <td>Norm</td>\n",
       "      <td>Norm</td>\n",
       "      <td>...</td>\n",
       "      <td>NaN</td>\n",
       "      <td>Timber</td>\n",
       "      <td>Y</td>\n",
       "      <td>NaN</td>\n",
       "      <td>CompShg</td>\n",
       "      <td>Hip</td>\n",
       "      <td>Normal</td>\n",
       "      <td>WD</td>\n",
       "      <td>Pave</td>\n",
       "      <td>AllPub</td>\n",
       "    </tr>\n",
       "    <tr>\n",
       "      <td>4</td>\n",
       "      <td>NaN</td>\n",
       "      <td>1Fam</td>\n",
       "      <td>TA</td>\n",
       "      <td>Gd</td>\n",
       "      <td>GLQ</td>\n",
       "      <td>ALQ</td>\n",
       "      <td>Ex</td>\n",
       "      <td>Y</td>\n",
       "      <td>Norm</td>\n",
       "      <td>Norm</td>\n",
       "      <td>...</td>\n",
       "      <td>NaN</td>\n",
       "      <td>NridgHt</td>\n",
       "      <td>Y</td>\n",
       "      <td>NaN</td>\n",
       "      <td>CompShg</td>\n",
       "      <td>Hip</td>\n",
       "      <td>Normal</td>\n",
       "      <td>WD</td>\n",
       "      <td>Pave</td>\n",
       "      <td>AllPub</td>\n",
       "    </tr>\n",
       "  </tbody>\n",
       "</table>\n",
       "<p>5 rows × 42 columns</p>\n",
       "</div>"
      ],
      "text/plain": [
       "  Alley BldgType BsmtCond BsmtExposure BsmtFinType1 BsmtFinType2 BsmtQual  \\\n",
       "0   NaN     1Fam       TA           No          Unf          Unf       TA   \n",
       "1   NaN     1Fam       Gd           No          ALQ          Unf       Gd   \n",
       "2   NaN     1Fam       TA           No          ALQ          Unf       TA   \n",
       "3   NaN     1Fam       Gd           Gd          Unf          Unf       Gd   \n",
       "4   NaN     1Fam       TA           Gd          GLQ          ALQ       Ex   \n",
       "\n",
       "  CentralAir Condition1 Condition2  ... MiscFeature Neighborhood PavedDrive  \\\n",
       "0          Y     Artery       Norm  ...         NaN        NAmes          Y   \n",
       "1          Y       PosN       Norm  ...         NaN       NWAmes          Y   \n",
       "2          Y       Norm       Norm  ...         NaN       Sawyer          Y   \n",
       "3          Y       Norm       Norm  ...         NaN       Timber          Y   \n",
       "4          Y       Norm       Norm  ...         NaN      NridgHt          Y   \n",
       "\n",
       "  PoolQC RoofMatl RoofStyle SaleCondition SaleType Street Utilities  \n",
       "0    NaN  CompShg     Gable        Normal       WD   Pave    AllPub  \n",
       "1    NaN  CompShg     Gable        Normal       WD   Pave    AllPub  \n",
       "2    NaN  CompShg       Hip        Normal       WD   Pave    AllPub  \n",
       "3    NaN  CompShg       Hip        Normal       WD   Pave    AllPub  \n",
       "4    NaN  CompShg       Hip        Normal       WD   Pave    AllPub  \n",
       "\n",
       "[5 rows x 42 columns]"
      ]
     },
     "execution_count": 44,
     "metadata": {},
     "output_type": "execute_result"
    }
   ],
   "source": [
    "categorical_features.head()"
   ]
  },
  {
   "cell_type": "code",
   "execution_count": null,
   "metadata": {},
   "outputs": [],
   "source": []
  },
  {
   "cell_type": "code",
   "execution_count": null,
   "metadata": {},
   "outputs": [],
   "source": []
  },
  {
   "cell_type": "code",
   "execution_count": 45,
   "metadata": {},
   "outputs": [
    {
     "data": {
      "text/plain": [
       "(1460, 42)"
      ]
     },
     "execution_count": 45,
     "metadata": {},
     "output_type": "execute_result"
    }
   ],
   "source": [
    "categorical_features.shape"
   ]
  },
  {
   "cell_type": "code",
   "execution_count": 46,
   "metadata": {},
   "outputs": [],
   "source": [
    "# Get Dummies \n",
    "one_hot_encoded_cat_data = pd.get_dummies(categorical_features)"
   ]
  },
  {
   "cell_type": "code",
   "execution_count": 47,
   "metadata": {},
   "outputs": [
    {
     "data": {
      "text/html": [
       "<div>\n",
       "<style scoped>\n",
       "    .dataframe tbody tr th:only-of-type {\n",
       "        vertical-align: middle;\n",
       "    }\n",
       "\n",
       "    .dataframe tbody tr th {\n",
       "        vertical-align: top;\n",
       "    }\n",
       "\n",
       "    .dataframe thead th {\n",
       "        text-align: right;\n",
       "    }\n",
       "</style>\n",
       "<table border=\"1\" class=\"dataframe\">\n",
       "  <thead>\n",
       "    <tr style=\"text-align: right;\">\n",
       "      <th></th>\n",
       "      <th>Alley_Grvl</th>\n",
       "      <th>Alley_Pave</th>\n",
       "      <th>BldgType_1Fam</th>\n",
       "      <th>BldgType_2fmCon</th>\n",
       "      <th>BldgType_Duplex</th>\n",
       "      <th>BldgType_Twnhs</th>\n",
       "      <th>BldgType_TwnhsE</th>\n",
       "      <th>BsmtCond_Fa</th>\n",
       "      <th>BsmtCond_Gd</th>\n",
       "      <th>BsmtCond_Po</th>\n",
       "      <th>...</th>\n",
       "      <th>SaleType_ConLD</th>\n",
       "      <th>SaleType_ConLI</th>\n",
       "      <th>SaleType_ConLw</th>\n",
       "      <th>SaleType_New</th>\n",
       "      <th>SaleType_Oth</th>\n",
       "      <th>SaleType_WD</th>\n",
       "      <th>Street_Grvl</th>\n",
       "      <th>Street_Pave</th>\n",
       "      <th>Utilities_AllPub</th>\n",
       "      <th>Utilities_NoSeWa</th>\n",
       "    </tr>\n",
       "  </thead>\n",
       "  <tbody>\n",
       "    <tr>\n",
       "      <td>0</td>\n",
       "      <td>0</td>\n",
       "      <td>0</td>\n",
       "      <td>1</td>\n",
       "      <td>0</td>\n",
       "      <td>0</td>\n",
       "      <td>0</td>\n",
       "      <td>0</td>\n",
       "      <td>0</td>\n",
       "      <td>0</td>\n",
       "      <td>0</td>\n",
       "      <td>...</td>\n",
       "      <td>0</td>\n",
       "      <td>0</td>\n",
       "      <td>0</td>\n",
       "      <td>0</td>\n",
       "      <td>0</td>\n",
       "      <td>1</td>\n",
       "      <td>0</td>\n",
       "      <td>1</td>\n",
       "      <td>1</td>\n",
       "      <td>0</td>\n",
       "    </tr>\n",
       "    <tr>\n",
       "      <td>1</td>\n",
       "      <td>0</td>\n",
       "      <td>0</td>\n",
       "      <td>1</td>\n",
       "      <td>0</td>\n",
       "      <td>0</td>\n",
       "      <td>0</td>\n",
       "      <td>0</td>\n",
       "      <td>0</td>\n",
       "      <td>1</td>\n",
       "      <td>0</td>\n",
       "      <td>...</td>\n",
       "      <td>0</td>\n",
       "      <td>0</td>\n",
       "      <td>0</td>\n",
       "      <td>0</td>\n",
       "      <td>0</td>\n",
       "      <td>1</td>\n",
       "      <td>0</td>\n",
       "      <td>1</td>\n",
       "      <td>1</td>\n",
       "      <td>0</td>\n",
       "    </tr>\n",
       "    <tr>\n",
       "      <td>2</td>\n",
       "      <td>0</td>\n",
       "      <td>0</td>\n",
       "      <td>1</td>\n",
       "      <td>0</td>\n",
       "      <td>0</td>\n",
       "      <td>0</td>\n",
       "      <td>0</td>\n",
       "      <td>0</td>\n",
       "      <td>0</td>\n",
       "      <td>0</td>\n",
       "      <td>...</td>\n",
       "      <td>0</td>\n",
       "      <td>0</td>\n",
       "      <td>0</td>\n",
       "      <td>0</td>\n",
       "      <td>0</td>\n",
       "      <td>1</td>\n",
       "      <td>0</td>\n",
       "      <td>1</td>\n",
       "      <td>1</td>\n",
       "      <td>0</td>\n",
       "    </tr>\n",
       "    <tr>\n",
       "      <td>3</td>\n",
       "      <td>0</td>\n",
       "      <td>0</td>\n",
       "      <td>1</td>\n",
       "      <td>0</td>\n",
       "      <td>0</td>\n",
       "      <td>0</td>\n",
       "      <td>0</td>\n",
       "      <td>0</td>\n",
       "      <td>1</td>\n",
       "      <td>0</td>\n",
       "      <td>...</td>\n",
       "      <td>0</td>\n",
       "      <td>0</td>\n",
       "      <td>0</td>\n",
       "      <td>0</td>\n",
       "      <td>0</td>\n",
       "      <td>1</td>\n",
       "      <td>0</td>\n",
       "      <td>1</td>\n",
       "      <td>1</td>\n",
       "      <td>0</td>\n",
       "    </tr>\n",
       "    <tr>\n",
       "      <td>4</td>\n",
       "      <td>0</td>\n",
       "      <td>0</td>\n",
       "      <td>1</td>\n",
       "      <td>0</td>\n",
       "      <td>0</td>\n",
       "      <td>0</td>\n",
       "      <td>0</td>\n",
       "      <td>0</td>\n",
       "      <td>0</td>\n",
       "      <td>0</td>\n",
       "      <td>...</td>\n",
       "      <td>0</td>\n",
       "      <td>0</td>\n",
       "      <td>0</td>\n",
       "      <td>0</td>\n",
       "      <td>0</td>\n",
       "      <td>1</td>\n",
       "      <td>0</td>\n",
       "      <td>1</td>\n",
       "      <td>1</td>\n",
       "      <td>0</td>\n",
       "    </tr>\n",
       "  </tbody>\n",
       "</table>\n",
       "<p>5 rows × 247 columns</p>\n",
       "</div>"
      ],
      "text/plain": [
       "   Alley_Grvl  Alley_Pave  BldgType_1Fam  BldgType_2fmCon  BldgType_Duplex  \\\n",
       "0           0           0              1                0                0   \n",
       "1           0           0              1                0                0   \n",
       "2           0           0              1                0                0   \n",
       "3           0           0              1                0                0   \n",
       "4           0           0              1                0                0   \n",
       "\n",
       "   BldgType_Twnhs  BldgType_TwnhsE  BsmtCond_Fa  BsmtCond_Gd  BsmtCond_Po  \\\n",
       "0               0                0            0            0            0   \n",
       "1               0                0            0            1            0   \n",
       "2               0                0            0            0            0   \n",
       "3               0                0            0            1            0   \n",
       "4               0                0            0            0            0   \n",
       "\n",
       "   ...  SaleType_ConLD  SaleType_ConLI  SaleType_ConLw  SaleType_New  \\\n",
       "0  ...               0               0               0             0   \n",
       "1  ...               0               0               0             0   \n",
       "2  ...               0               0               0             0   \n",
       "3  ...               0               0               0             0   \n",
       "4  ...               0               0               0             0   \n",
       "\n",
       "   SaleType_Oth  SaleType_WD  Street_Grvl  Street_Pave  Utilities_AllPub  \\\n",
       "0             0            1            0            1                 1   \n",
       "1             0            1            0            1                 1   \n",
       "2             0            1            0            1                 1   \n",
       "3             0            1            0            1                 1   \n",
       "4             0            1            0            1                 1   \n",
       "\n",
       "   Utilities_NoSeWa  \n",
       "0                 0  \n",
       "1                 0  \n",
       "2                 0  \n",
       "3                 0  \n",
       "4                 0  \n",
       "\n",
       "[5 rows x 247 columns]"
      ]
     },
     "execution_count": 47,
     "metadata": {},
     "output_type": "execute_result"
    }
   ],
   "source": [
    "one_hot_encoded_cat_data.head()"
   ]
  },
  {
   "cell_type": "code",
   "execution_count": 48,
   "metadata": {},
   "outputs": [
    {
     "data": {
      "text/plain": [
       "(1460, 247)"
      ]
     },
     "execution_count": 48,
     "metadata": {},
     "output_type": "execute_result"
    }
   ],
   "source": [
    "one_hot_encoded_cat_data.shape"
   ]
  },
  {
   "cell_type": "code",
   "execution_count": 49,
   "metadata": {},
   "outputs": [
    {
     "data": {
      "text/plain": [
       "Index(['Alley_Grvl', 'Alley_Pave', 'BldgType_1Fam', 'BldgType_2fmCon',\n",
       "       'BldgType_Duplex', 'BldgType_Twnhs', 'BldgType_TwnhsE', 'BsmtCond_Fa',\n",
       "       'BsmtCond_Gd', 'BsmtCond_Po',\n",
       "       ...\n",
       "       'SaleType_ConLD', 'SaleType_ConLI', 'SaleType_ConLw', 'SaleType_New',\n",
       "       'SaleType_Oth', 'SaleType_WD', 'Street_Grvl', 'Street_Pave',\n",
       "       'Utilities_AllPub', 'Utilities_NoSeWa'],\n",
       "      dtype='object', length=247)"
      ]
     },
     "execution_count": 49,
     "metadata": {},
     "output_type": "execute_result"
    }
   ],
   "source": [
    "one_hot_encoded_cat_data.columns"
   ]
  },
  {
   "cell_type": "code",
   "execution_count": 50,
   "metadata": {},
   "outputs": [
    {
     "data": {
      "text/plain": [
       "1stFlrSF        False\n",
       "2ndFlrSF        False\n",
       "3SsnPorch       False\n",
       "Alley            True\n",
       "BedroomAbvGr    False\n",
       "                ...  \n",
       "haspool         False\n",
       "has2ndfloor     False\n",
       "hasgarage       False\n",
       "hasbsmt         False\n",
       "hasfireplace    False\n",
       "Length: 85, dtype: bool"
      ]
     },
     "execution_count": 50,
     "metadata": {},
     "output_type": "execute_result"
    }
   ],
   "source": [
    "all_data.isnull().any()"
   ]
  },
  {
   "cell_type": "code",
   "execution_count": 51,
   "metadata": {},
   "outputs": [],
   "source": [
    "#Let us drop some numerical features which have negative correlation with the SalePrice\n",
    "\n",
    "num_features.drop('YrSold', axis=1, inplace=True)\n",
    "num_features.drop('MiscVal', axis=1, inplace=True)\n",
    "num_features.drop('BsmtHalfBath', axis=1, inplace=True)\n",
    "num_features.drop('MSSubClass', axis=1, inplace=True)\n",
    "num_features.drop('EnclosedPorch', axis=1, inplace=True)\n",
    "num_features.drop('KitchenAbvGr', axis=1, inplace=True)\n",
    "\n"
   ]
  },
  {
   "cell_type": "code",
   "execution_count": 52,
   "metadata": {},
   "outputs": [],
   "source": [
    "num_features.drop('BsmtFinSF2', axis=1, inplace=True)"
   ]
  },
  {
   "cell_type": "code",
   "execution_count": 53,
   "metadata": {},
   "outputs": [
    {
     "data": {
      "text/plain": [
       "(1460, 35)"
      ]
     },
     "execution_count": 53,
     "metadata": {},
     "output_type": "execute_result"
    }
   ],
   "source": [
    "num_features.shape"
   ]
  },
  {
   "cell_type": "code",
   "execution_count": null,
   "metadata": {},
   "outputs": [],
   "source": [
    "\n"
   ]
  },
  {
   "cell_type": "code",
   "execution_count": null,
   "metadata": {},
   "outputs": [],
   "source": []
  },
  {
   "cell_type": "code",
   "execution_count": 54,
   "metadata": {},
   "outputs": [],
   "source": [
    "combine_data=[num_features,one_hot_encoded_cat_data]\n",
    "all_data_preprocessed=pd.concat(combine_data,axis=1)"
   ]
  },
  {
   "cell_type": "code",
   "execution_count": 55,
   "metadata": {},
   "outputs": [
    {
     "data": {
      "text/plain": [
       "(1460, 282)"
      ]
     },
     "execution_count": 55,
     "metadata": {},
     "output_type": "execute_result"
    }
   ],
   "source": [
    "all_data_preprocessed.shape"
   ]
  },
  {
   "cell_type": "code",
   "execution_count": 56,
   "metadata": {},
   "outputs": [],
   "source": [
    "#the last step of preprocessing is to do mean normalization on all the columns\n",
    "normalized_all_data_preprocessed=(all_data_preprocessed-all_data_preprocessed.mean())/all_data_preprocessed.std()\n",
    "\n"
   ]
  },
  {
   "cell_type": "code",
   "execution_count": 57,
   "metadata": {},
   "outputs": [
    {
     "data": {
      "text/plain": [
       "(1460, 282)"
      ]
     },
     "execution_count": 57,
     "metadata": {},
     "output_type": "execute_result"
    }
   ],
   "source": [
    "normalized_all_data_preprocessed.shape"
   ]
  },
  {
   "cell_type": "raw",
   "metadata": {},
   "source": [
    "We have completed the necessary preprocessing steps.Now we will use linear regression to predict the housing prices"
   ]
  },
  {
   "cell_type": "code",
   "execution_count": 58,
   "metadata": {},
   "outputs": [
    {
     "name": "stdout",
     "output_type": "stream",
     "text": [
      "(1138, 282)\n"
     ]
    },
    {
     "data": {
      "text/plain": [
       "(322, 282)"
      ]
     },
     "execution_count": 58,
     "metadata": {},
     "output_type": "execute_result"
    }
   ],
   "source": [
    "#Re-spliting the data into train and test datasets\n",
    "train_data_final=normalized_all_data_preprocessed.iloc[:ntrain,:]\n",
    "test_data_final=normalized_all_data_preprocessed.iloc[ntrain:,:]\n",
    "print(train_data_final.shape)\n",
    "test_data_final.shape"
   ]
  },
  {
   "cell_type": "code",
   "execution_count": 59,
   "metadata": {},
   "outputs": [
    {
     "data": {
      "text/plain": [
       "Index(['1stFlrSF', '2ndFlrSF', '3SsnPorch', 'BedroomAbvGr', 'BsmtFinSF1',\n",
       "       'BsmtFullBath', 'BsmtUnfSF', 'Fireplaces', 'FullBath', 'GarageArea',\n",
       "       ...\n",
       "       'SaleType_ConLD', 'SaleType_ConLI', 'SaleType_ConLw', 'SaleType_New',\n",
       "       'SaleType_Oth', 'SaleType_WD', 'Street_Grvl', 'Street_Pave',\n",
       "       'Utilities_AllPub', 'Utilities_NoSeWa'],\n",
       "      dtype='object', length=282)"
      ]
     },
     "execution_count": 59,
     "metadata": {},
     "output_type": "execute_result"
    }
   ],
   "source": [
    "train_data_final.columns"
   ]
  },
  {
   "cell_type": "code",
   "execution_count": 60,
   "metadata": {},
   "outputs": [],
   "source": [
    "train_SalePrice = train_data_final['SalePrice']\n",
    "test_SalePrice = test_data_final['SalePrice']\n",
    "train_data_final.drop(\"SalePrice\", axis = 1, inplace = True)\n",
    "test_data_final.drop(\"SalePrice\", axis = 1, inplace = True)"
   ]
  },
  {
   "cell_type": "code",
   "execution_count": 61,
   "metadata": {},
   "outputs": [
    {
     "data": {
      "text/plain": [
       "(1138, 281)"
      ]
     },
     "execution_count": 61,
     "metadata": {},
     "output_type": "execute_result"
    }
   ],
   "source": [
    "train_data_final.shape"
   ]
  },
  {
   "cell_type": "code",
   "execution_count": 62,
   "metadata": {},
   "outputs": [
    {
     "data": {
      "text/plain": [
       "(322, 281)"
      ]
     },
     "execution_count": 62,
     "metadata": {},
     "output_type": "execute_result"
    }
   ],
   "source": [
    "test_data_final.shape"
   ]
  },
  {
   "cell_type": "code",
   "execution_count": 63,
   "metadata": {},
   "outputs": [],
   "source": [
    "X=np.asarray(train_data_final)\n",
    "y_train_SalePrice=np.asarray(y_train)\n",
    "X_test=np.asarray(test_data_final)\n",
    "y_actual_SalePrice=np.asarray(y_test)"
   ]
  },
  {
   "cell_type": "code",
   "execution_count": 64,
   "metadata": {},
   "outputs": [],
   "source": [
    "\n",
    "y_train_SalePrice=np.log(y_train_SalePrice+1)\n",
    "y_actual_SalePrice=np.log(y_actual_SalePrice+1)"
   ]
  },
  {
   "cell_type": "code",
   "execution_count": 65,
   "metadata": {},
   "outputs": [
    {
     "name": "stdout",
     "output_type": "stream",
     "text": [
      "[[-0.85524366 -0.79489086 -0.11629944 ...  0.06421621  0.0261712\n",
      "  -0.0261712 ]\n",
      " [ 0.98133813  2.25187514 -0.11629944 ...  0.06421621  0.0261712\n",
      "  -0.0261712 ]\n",
      " [-0.68193242 -0.79489086 -0.11629944 ...  0.06421621  0.0261712\n",
      "  -0.0261712 ]\n",
      " ...\n",
      " [-0.24477422 -0.79489086 -0.11629944 ...  0.06421621  0.0261712\n",
      "  -0.0261712 ]\n",
      " [ 1.61767492 -0.79489086 -0.11629944 ...  0.06421621  0.0261712\n",
      "  -0.0261712 ]\n",
      " [ 0.18462378 -0.79489086 -0.11629944 ...  0.06421621  0.0261712\n",
      "  -0.0261712 ]]\n"
     ]
    }
   ],
   "source": [
    "print(X)"
   ]
  },
  {
   "cell_type": "code",
   "execution_count": 66,
   "metadata": {},
   "outputs": [
    {
     "data": {
      "text/plain": [
       "array([ 0.98133813,  2.25187514, -0.11629944,  1.38954664,  0.9918048 ,\n",
       "        1.1074307 , -0.30153966,  0.60028925,  0.78947002,  0.68295864,\n",
       "        0.31161787, -0.06100367,  2.58151654,  1.2271649 ,  0.1713382 ,\n",
       "               nan, -0.12020054,  1.7690476 ,  0.25080471,  3.55197458,\n",
       "        1.28024657, -0.07181151, -0.06866822, -0.2701158 ,  2.75760446,\n",
       "        0.62130668,  3.63618847,  0.18978942,  0.49087173, -0.06938529,\n",
       "        1.14581315,  0.24227667,  0.16119428,  0.9463034 , -0.18824639,\n",
       "       -0.16992291,  0.44338084, -0.14723666, -0.1921107 , -0.17414079,\n",
       "       -0.29092505, -0.17827041,  4.63107318, -0.03702435, -2.96523713,\n",
       "       -0.42219365, -0.31778387, -0.29092505,  0.72913635,  2.37328951,\n",
       "       -0.33574933, -0.63314838, -0.2309859 , -0.31647658, -0.6459023 ,\n",
       "       -0.11478788, -0.15201842, -0.09836285, -0.18030403, -0.19590947,\n",
       "        0.40287608, -0.30050632, -0.1566671 ,  1.16684461, -0.89425863,\n",
       "       -0.2637222 ,  0.2637222 , -0.18431237, -0.24227667, -2.50912035,\n",
       "       -0.07420154,  8.70575434, -0.08709904, -0.13460566, -0.03702435,\n",
       "       -0.05860096, -0.03702435, -0.06421621,  0.10185044, -0.0261712 ,\n",
       "       -0.03702435, -0.0261712 , -0.0261712 , -0.03702435, -0.26223448,\n",
       "       -0.13721766, -0.04536094, -0.0261712 ,  0.30722643, -0.04536094,\n",
       "       -0.13978441,  2.99897243, -0.0261712 , -2.68278105, -0.1921107 ,\n",
       "       -0.09836285, -0.70831754,  0.7817034 , -0.11781076, -0.0261712 ,\n",
       "       -0.03702435, -0.18824639, -0.0261712 , -0.20874077,  2.36066876,\n",
       "       -0.0261712 , -0.42106749, -0.28253662, -0.03702435, -0.13194571,\n",
       "       -0.73797038, -0.40516886, -0.13460566, -0.11781076, -0.04536094,\n",
       "       -0.06938529, -0.13194571, -0.0261712 , -0.20694876,  2.45947029,\n",
       "       -0.08301703, -0.41428488, -0.0261712 , -0.32812376, -0.05860096,\n",
       "       -0.13460566, -0.72583439, -0.39480501, -0.16341549, -0.20514369,\n",
       "       -0.19590947, -0.34699949, -0.08709904, -0.33321916,  1.14102882,\n",
       "       -0.89178073, -0.12923484, -0.06421621, -0.04536094, -0.09836285,\n",
       "       -0.05860096, -0.14723666, -0.15435863, -0.10185044, -0.0261712 ,\n",
       "        0.27107019, -0.03702435, -0.1566671 , -0.07872973, -0.06938529,\n",
       "        0.31778387,  1.77357585, -0.63739517, -0.8409029 , -0.04536094,\n",
       "       -0.18431237, -0.09836285, -0.04536094,  0.33701017, -0.06421621,\n",
       "        0.82322319, -0.11478788, -0.2531719 , -0.07872973, -0.60035321,\n",
       "       -0.0261712 ,  0.14964496, -0.11168757, -0.06938529, -0.03702435,\n",
       "       -0.05239629, -1.01483603, -0.18628837, -0.4444858 , -0.0261712 ,\n",
       "        1.55227686, -0.34327327, -0.09836285, -0.99419483, -0.07420154,\n",
       "       -0.08709904,  1.5097472 , -0.16119428, -0.21578477, -0.27107019,\n",
       "       -0.16560997, -0.8185483 ,  0.9928338 , -0.21228695, -0.18824639,\n",
       "       -0.15894522,  0.33701017,  0.23748955, -0.21578477, -0.09475205,\n",
       "        2.13265409, -0.26223448, -0.1823178 , -0.05239629, -1.60519947,\n",
       "        1.419559  , -0.16992291, -0.08301703, -1.3144534 , -0.08301703,\n",
       "       -0.21578477, -0.1052271 ,  0.51795591, -0.41881157, -0.10185044,\n",
       "        1.5097472 , -1.20360771, -0.30988752, -0.03702435, -0.03702435,\n",
       "       -0.18628837, -0.0261712 , -0.10850319, -0.03702435, -0.1052271 ,\n",
       "       -0.2033252 , -0.13978441, -0.33826822, -0.19018699, -0.27107019,\n",
       "       -0.23909359, -0.16119428, -0.10850319, -0.18628837, -0.42668659,\n",
       "       -0.07872973,  4.35740591, -0.16992291, -0.23587694, -0.28953871,\n",
       "       -0.13194571, -0.2309859 , -0.20514369, -0.25009619, -0.13194571,\n",
       "       -0.16341549, -0.08709904, -0.25621951, -0.14479175,  0.2991503 ,\n",
       "       -0.03702435, -0.03702435, -0.04536094, -0.0261712 ,  0.13460566,\n",
       "       -0.0261712 , -0.0261712 , -0.0261712 , -0.08709904, -0.05860096,\n",
       "       -0.06421621, -0.09475205,  0.52857149, -0.08709904, -0.49340118,\n",
       "       -0.06938529, -0.03702435, -0.27252238, -0.05239629, -0.09100339,\n",
       "       -0.11781076,  0.46749122, -0.30589022, -0.17414079, -0.05239629,\n",
       "       -0.03702435, -0.07872973, -0.05860096, -0.05860096, -0.30185827,\n",
       "       -0.04536094,  0.39015894, -0.06421621,  0.06421621,  0.0261712 ,\n",
       "       -0.0261712 ])"
      ]
     },
     "execution_count": 66,
     "metadata": {},
     "output_type": "execute_result"
    }
   ],
   "source": [
    "X[1]"
   ]
  },
  {
   "cell_type": "code",
   "execution_count": 67,
   "metadata": {},
   "outputs": [
    {
     "name": "stdout",
     "output_type": "stream",
     "text": [
      "[-2.26423377e-02  1.90321198e-02 -1.57692774e-02  8.61001138e-03\n",
      " -6.82415760e-03 -6.72729277e-05 -1.08275752e-02 -1.44617641e-02\n",
      " -1.60269089e-02 -1.25000905e-02 -2.23251509e-02  1.87011245e-03\n",
      " -4.40954025e-04  1.62267483e-02 -2.43770729e-02  1.78733620e-02\n",
      "  4.39042387e-03 -4.91648177e-03  3.78894054e-03  1.25943804e-02\n",
      "  1.99470619e-02  8.88232769e-03 -8.06252326e-03 -8.79990817e-03\n",
      "  1.28314201e-02 -2.61949002e-02 -3.08847580e-02 -9.01244105e-03\n",
      " -3.62755093e-03 -5.80097986e-03  1.80264180e-02 -1.86665897e-02\n",
      " -6.48513543e-03 -3.83235885e-03 -2.88490079e-02  5.54294389e-03\n",
      "  2.53249163e-03  1.11936254e-02 -2.51922918e-03  1.80994826e-02\n",
      " -1.91779284e-02  4.69957135e-03  1.42067303e-02  1.04761345e-02\n",
      " -1.70093124e-02  1.16200704e-02 -1.04863760e-02 -9.35574336e-03\n",
      "  3.36155455e-04  2.33776888e-02  1.64182747e-02 -2.87821338e-02\n",
      " -1.47349099e-02  1.62802876e-02 -6.09814984e-03  9.22677515e-03\n",
      " -1.60867333e-02  9.80418031e-03 -1.43559866e-02 -1.90387844e-02\n",
      "  1.52229099e-02 -1.05582477e-02 -1.88409595e-02 -6.58072910e-03\n",
      "  1.61497905e-02  1.40752670e-02 -1.40752670e-02 -6.96435149e-03\n",
      "  1.09917880e-02 -1.81637719e-02  9.09588265e-03  1.69776910e-02\n",
      "  1.44863557e-02  4.87688474e-03  1.04761345e-02  1.54484075e-03\n",
      " -3.70243509e-02  4.43908158e-03  1.47375861e-02  7.40520664e-03\n",
      "  1.04761345e-02 -2.61711961e-02 -2.61711961e-02  1.04761345e-02\n",
      "  2.61812834e-03  6.22539271e-03 -6.56365131e-03  7.40520664e-03\n",
      " -5.59653135e-03  1.28349943e-02 -5.28183607e-03  6.44184665e-03\n",
      " -2.61711961e-02 -3.37619575e-03  6.96034454e-03  2.78320182e-02\n",
      " -1.37290220e-02  5.09850771e-03 -4.45154905e-03  7.40520664e-03\n",
      " -3.70243509e-02 -9.52811270e-03  7.40520664e-03  6.38087976e-03\n",
      "  1.45844827e-02  7.40520664e-03 -6.08829018e-03 -6.06893742e-04\n",
      " -1.32741082e-02  1.02495612e-02  1.21007649e-02 -1.40478633e-02\n",
      " -2.16912187e-02 -4.45154905e-03  1.28349943e-02 -5.80097986e-03\n",
      " -3.03776589e-02  7.40520664e-03  5.45559117e-03  1.42368108e-02\n",
      "  2.18849828e-03 -6.96111283e-03  7.40520664e-03 -1.09160707e-02\n",
      " -1.34916092e-02  1.15189106e-02  1.32220229e-02 -6.56170978e-03\n",
      " -8.93335992e-03  4.51583761e-03  1.81971502e-02 -3.89599015e-03\n",
      "  1.44863557e-02 -1.69830503e-02  1.20999154e-02 -5.84519307e-03\n",
      "  8.93363295e-03  1.81701390e-02 -6.56365131e-03 -8.22365754e-03\n",
      "  1.65812907e-02 -9.93319478e-04 -2.92025527e-03  2.68498533e-03\n",
      "  7.40520664e-03 -1.90559010e-04  1.04761345e-02 -1.30982035e-02\n",
      " -2.26150037e-02  1.96327457e-02 -7.76892088e-03 -2.12901570e-02\n",
      "  1.37025706e-02 -2.79694350e-03  1.28349943e-02 -1.18906854e-02\n",
      " -1.72375765e-02  1.28349943e-02 -5.40211628e-03  1.81701390e-02\n",
      " -5.59098293e-03  9.22677515e-03  1.25797189e-02  1.10538325e-02\n",
      " -1.72115268e-02  7.40520664e-03 -3.45182802e-04 -2.39906906e-04\n",
      "  6.91588290e-03 -1.32741082e-02 -1.97982462e-03 -1.33079755e-02\n",
      " -9.42098945e-04 -9.10500769e-03  7.40520664e-03  2.19885269e-02\n",
      " -2.58397109e-02 -8.22365754e-03 -1.73619599e-02 -1.47033802e-02\n",
      "  1.44863557e-02  3.65323611e-02 -1.58721201e-02  1.42067303e-02\n",
      "  1.90559010e-04  1.96200539e-02 -1.39045735e-02  7.20813821e-03\n",
      "  1.25132457e-02  2.42834539e-02 -6.00583874e-03 -1.99111115e-02\n",
      "  1.09268094e-02 -1.13478811e-02 -1.24252388e-03 -4.56219195e-03\n",
      " -1.52773182e-02 -8.13316130e-03 -1.97982462e-03  1.56929763e-02\n",
      " -4.20747160e-03 -1.04084978e-02 -1.91128850e-02  1.09511768e-02\n",
      "  1.28391899e-02 -2.83842886e-02 -3.97606803e-03  1.90336374e-02\n",
      " -7.19841875e-03  2.68498533e-03  1.74492673e-02 -1.68832559e-02\n",
      "  7.14810850e-04 -1.32741082e-02  1.04761345e-02  3.93543460e-03\n",
      " -2.61711961e-02  6.13576407e-03  1.04761345e-02 -3.97606803e-03\n",
      " -2.79216352e-02  1.12304820e-03  6.02422608e-03  1.07549142e-02\n",
      "  3.66826095e-03  1.32921374e-02  6.48513543e-03  1.43242609e-02\n",
      "  8.81296814e-03  1.51644132e-03  1.10538325e-02  1.24946428e-02\n",
      "  2.25796663e-04  1.56504753e-02  3.03061659e-03 -1.00640488e-02\n",
      " -1.47349099e-02  5.49966692e-05 -1.87774023e-02 -1.68352522e-02\n",
      " -1.99677977e-02 -1.59892630e-02  1.40593011e-02 -1.47590891e-02\n",
      " -4.68791477e-03  1.04761345e-02 -1.32741082e-02 -6.56365131e-03\n",
      "  7.40520664e-03  2.16912187e-02  7.40520664e-03  7.40520664e-03\n",
      "  7.40520664e-03 -4.64648817e-02  1.54484075e-03  4.43908158e-03\n",
      " -3.86463355e-02  1.83780305e-02  4.32781617e-03 -1.08968246e-02\n",
      "  6.91588290e-03 -1.32741082e-02 -1.98171368e-02 -1.97982462e-03\n",
      "  6.29080244e-03  1.06630128e-02  1.42306386e-02 -7.63381568e-03\n",
      "  7.70811624e-03 -1.97982462e-03 -3.70243509e-02  2.22767780e-02\n",
      " -1.34916092e-02  1.65812907e-02 -9.81872094e-03 -6.56365131e-03\n",
      "  3.71979213e-03  4.43908158e-03 -4.43908158e-03  2.61711961e-02\n",
      " -2.61711961e-02]\n"
     ]
    }
   ],
   "source": [
    "\"As we can see above there are Nan values present in some columns\"\n",
    "\"so we fill those nan values with the mean of that column\"\n",
    "#Obtain mean of columns where Nan is present, nanmean is just convenient.\n",
    "col_mean = np.nanmean(X, axis=0)\n",
    "print(col_mean)\n",
    "\n"
   ]
  },
  {
   "cell_type": "code",
   "execution_count": 68,
   "metadata": {},
   "outputs": [],
   "source": [
    "#Finding indices that need to replaced\n",
    "indices = np.where(np.isnan(X))\n"
   ]
  },
  {
   "cell_type": "code",
   "execution_count": 69,
   "metadata": {},
   "outputs": [],
   "source": [
    "#Place column means in the indices. Align the arrays using take\n",
    "X[indices] = np.take(col_mean, indices[1])"
   ]
  },
  {
   "cell_type": "code",
   "execution_count": 70,
   "metadata": {},
   "outputs": [
    {
     "name": "stdout",
     "output_type": "stream",
     "text": [
      "[[-0.85524366 -0.79489086 -0.11629944 ...  0.06421621  0.0261712\n",
      "  -0.0261712 ]\n",
      " [ 0.98133813  2.25187514 -0.11629944 ...  0.06421621  0.0261712\n",
      "  -0.0261712 ]\n",
      " [-0.68193242 -0.79489086 -0.11629944 ...  0.06421621  0.0261712\n",
      "  -0.0261712 ]\n",
      " ...\n",
      " [-0.24477422 -0.79489086 -0.11629944 ...  0.06421621  0.0261712\n",
      "  -0.0261712 ]\n",
      " [ 1.61767492 -0.79489086 -0.11629944 ...  0.06421621  0.0261712\n",
      "  -0.0261712 ]\n",
      " [ 0.18462378 -0.79489086 -0.11629944 ...  0.06421621  0.0261712\n",
      "  -0.0261712 ]]\n"
     ]
    }
   ],
   "source": [
    "print(X)"
   ]
  },
  {
   "cell_type": "code",
   "execution_count": 71,
   "metadata": {},
   "outputs": [
    {
     "name": "stdout",
     "output_type": "stream",
     "text": [
      "1138\n",
      "281\n"
     ]
    }
   ],
   "source": [
    "print(X.shape[0])\n",
    "print(X.shape[1])"
   ]
  },
  {
   "cell_type": "code",
   "execution_count": 72,
   "metadata": {},
   "outputs": [
    {
     "name": "stdout",
     "output_type": "stream",
     "text": [
      "[[ 0.29326664 -0.79489086 -0.11629944 ...  0.06421621  0.0261712\n",
      "  -0.0261712 ]\n",
      " [ 0.46399115 -0.79489086 -0.11629944 ...  0.06421621  0.0261712\n",
      "  -0.0261712 ]\n",
      " [-0.81644264  1.7272816  -0.11629944 ...  0.06421621  0.0261712\n",
      "  -0.0261712 ]\n",
      " ...\n",
      " [ 0.26222582 -0.79489086 -0.11629944 ...  0.06421621  0.0261712\n",
      "  -0.0261712 ]\n",
      " [ 1.32537387  3.36978628 -0.11629944 ...  0.06421621  0.0261712\n",
      "  -0.0261712 ]\n",
      " [ 1.21931774 -0.79489086 -0.11629944 ...  0.06421621  0.0261712\n",
      "  -0.0261712 ]]\n"
     ]
    }
   ],
   "source": [
    "print(X_test)"
   ]
  },
  {
   "cell_type": "code",
   "execution_count": 73,
   "metadata": {},
   "outputs": [
    {
     "name": "stdout",
     "output_type": "stream",
     "text": [
      "[ 0.46399115 -0.79489086 -0.11629944  0.16372302 -0.42236468 -0.81968351\n",
      " -0.17254155  0.60028925  0.78947002 -0.0747417   0.31161787 -0.46603046\n",
      " -0.33010499 -0.7613598  -0.07281924         nan -0.12020054 -0.57263729\n",
      "  0.99055194 -0.70424195 -0.51702265 -0.07181151 -0.06866822  3.26304654\n",
      "  0.2966616   0.71704292 -0.7519182  -0.14130457 -0.86536214 -0.06938529\n",
      " -0.87214487  0.24227667  0.16119428  0.9463034  -0.18824639 -0.16992291\n",
      "  0.44338084 -0.14723666 -0.1921107  -0.17414079 -0.29092505 -0.17827041\n",
      " -0.21578477 -0.03702435  0.33701017 -0.42219365 -0.31778387 -0.29092505\n",
      "  0.72913635 -0.42106749 -0.33574933 -0.63314838 -0.2309859   3.15762723\n",
      " -0.6459023  -0.11478788 -0.15201842 -0.09836285  5.54238904 -0.19590947\n",
      " -2.48045272 -0.30050632 -0.1566671  -0.85642514  1.11747881 -0.2637222\n",
      "  0.2637222  -0.18431237  4.12468552 -2.50912035 -0.07420154 -0.11478788\n",
      " -0.08709904 -0.13460566 -0.03702435 -0.05860096 -0.03702435 -0.06421621\n",
      "  0.10185044 -0.0261712  -0.03702435 -0.0261712  -0.0261712  -0.03702435\n",
      " -0.26223448 -0.13721766 -0.04536094 -0.0261712   0.30722643 -0.04536094\n",
      " -0.13978441 -0.33321916 -0.0261712   0.37249222 -0.1921107  -0.09836285\n",
      " -0.70831754  0.7817034  -0.11781076 -0.0261712  -0.03702435  5.30854829\n",
      " -0.0261712  -0.20874077 -0.42331863 -0.0261712  -0.42106749 -0.28253662\n",
      " -0.03702435 -0.13194571 -0.73797038 -0.40516886 -0.13460566 -0.11781076\n",
      " -0.04536094 -0.06938529 -0.13194571 -0.0261712  -0.20694876 -0.40631313\n",
      " -0.08301703 -0.41428488 -0.0261712  -0.32812376 -0.05860096 -0.13460566\n",
      " -0.72583439  2.53116106 -0.16341549 -0.20514369 -0.19590947 -0.34699949\n",
      " -0.08709904 -0.33321916  1.14102882 -0.89178073 -0.12923484 -0.06421621\n",
      " -0.04536094 -0.09836285 -0.05860096 -0.14723666 -0.15435863 -0.10185044\n",
      " -0.0261712   0.27107019 -0.03702435 -0.1566671  -0.07872973 -0.06938529\n",
      "  0.31778387 -0.56344648 -0.63739517  1.18838343 -0.04536094 -0.18431237\n",
      " -0.09836285 -0.04536094  0.33701017 -0.06421621  0.82322319 -0.11478788\n",
      " -0.2531719  -0.07872973 -0.60035321 -0.0261712   0.14964496 -0.11168757\n",
      " -0.06938529 -0.03702435 -0.05239629 -1.01483603 -0.18628837 -0.4444858\n",
      " -0.0261712   1.55227686 -0.34327327 -0.09836285  1.00515014 -0.07420154\n",
      " -0.08709904 -0.66190887 -0.16119428 -0.21578477 -0.27107019 -0.16560997\n",
      " -0.8185483   0.9928338  -0.21228695 -0.18824639 -0.15894522  0.33701017\n",
      "  0.23748955 -0.21578477 -0.09475205 -0.46857813 -0.26223448 -0.1823178\n",
      " -0.05239629  0.62254884 -0.70396163 -0.16992291 -0.08301703  0.76025142\n",
      " -0.08301703 -0.21578477 -0.1052271   0.51795591 -0.41881157 -0.10185044\n",
      " -0.66190887  0.83026643 -0.30988752 -0.03702435 -0.03702435 -0.18628837\n",
      " -0.0261712  -0.10850319 -0.03702435 -0.1052271  -0.2033252  -0.13978441\n",
      " -0.33826822 -0.19018699 -0.27107019 -0.23909359 -0.16119428 -0.10850319\n",
      " -0.18628837 -0.42668659 -0.07872973  4.35740591 -0.16992291 -0.23587694\n",
      " -0.28953871 -0.13194571 -0.2309859  -0.20514369 -0.25009619 -0.13194571\n",
      " -0.16341549 -0.08709904 -0.25621951 -0.14479175  0.2991503  -0.03702435\n",
      " -0.03702435 -0.04536094 -0.0261712   0.13460566 -0.0261712  -0.0261712\n",
      " -0.0261712  -0.08709904 -0.05860096 -0.06421621 -0.09475205  0.52857149\n",
      " -0.08709904 -0.49340118 -0.06938529 -0.03702435 -0.27252238 -0.05239629\n",
      " -0.09100339 -0.11781076  0.46749122 -0.30589022 -0.17414079 -0.05239629\n",
      " -0.03702435 -0.07872973 -0.05860096 -0.05860096 -0.30185827 -0.04536094\n",
      "  0.39015894 -0.06421621  0.06421621  0.0261712  -0.0261712 ]\n"
     ]
    }
   ],
   "source": [
    "print(X_test[1])"
   ]
  },
  {
   "cell_type": "code",
   "execution_count": 74,
   "metadata": {},
   "outputs": [
    {
     "name": "stdout",
     "output_type": "stream",
     "text": [
      "[ 0.08002168 -0.06726258  0.05573117 -0.03042917  0.02411768  0.00023775\n",
      "  0.0382664   0.05111021  0.05664168  0.04417734  0.07890069 -0.00647579\n",
      "  0.0015584  -0.05734795  0.08615251 -0.06374606 -0.01551647  0.01739205\n",
      " -0.01339073 -0.04451057 -0.07049614 -0.03139158  0.02849426  0.0311003\n",
      " -0.04534831  0.09257701  0.10915172  0.03185142  0.01282035  0.0205016\n",
      " -0.06370827  0.06597074  0.02291952  0.01354418  0.10195705 -0.01958966\n",
      " -0.00895023 -0.03956008  0.00890336 -0.06396649  0.0677779  -0.01660904\n",
      " -0.05020888 -0.03702435  0.06011366 -0.04106721  0.03706055  0.03306471\n",
      " -0.00118803 -0.08262053 -0.05802483  0.10172071  0.05207555 -0.05753717\n",
      "  0.02155185 -0.03260891  0.05685311 -0.03464956  0.05073638  0.06728614\n",
      " -0.05380022  0.03731455  0.06658699  0.02325736 -0.05707597 -0.04974427\n",
      "  0.04974427  0.02461314 -0.03884675  0.0641937  -0.03214632 -0.0600019\n",
      " -0.05119712 -0.0172357  -0.03702435 -0.00545972  0.13085004 -0.01568843\n",
      " -0.05208501 -0.0261712  -0.03702435  0.09249323  0.09249323 -0.03702435\n",
      " -0.00925289 -0.02200154  0.023197   -0.0261712   0.01977905 -0.04536094\n",
      "  0.01866686 -0.02276653  0.09249323  0.01193202 -0.02459898 -0.09836285\n",
      "  0.04852058 -0.01801895  0.01573249 -0.0261712   0.13085004  0.03367389\n",
      " -0.0261712  -0.02255106 -0.05154392 -0.0261712   0.021517    0.00214486\n",
      "  0.04691284 -0.0362236  -0.04276606  0.04964742  0.07666027  0.01573249\n",
      " -0.04536094  0.0205016   0.10735955 -0.0261712  -0.01928094 -0.05031519\n",
      " -0.00773451  0.0246017  -0.0261712   0.03857916  0.04768153 -0.04070969\n",
      " -0.04672876  0.02319014  0.03157194 -0.0159597  -0.06431167  0.01376906\n",
      " -0.05119712  0.06002084 -0.04276305  0.02065786 -0.0315729  -0.06421621\n",
      "  0.023197    0.02906373 -0.05860096  0.00351055  0.01032065 -0.00948917\n",
      " -0.0261712   0.00067347 -0.03702435  0.04629117  0.07992508 -0.06938529\n",
      "  0.02745662  0.07524285 -0.0484271   0.00988485 -0.04536094  0.0420236\n",
      "  0.06092038 -0.04536094  0.01909195 -0.06421621  0.01975944 -0.03260891\n",
      " -0.04445876 -0.03906603  0.06082832 -0.0261712   0.00121993  0.00084787\n",
      " -0.02444185  0.04691284  0.00699702  0.04703253  0.00332953  0.03217857\n",
      " -0.0261712  -0.077711    0.09132171  0.02906373  0.06135997  0.05196412\n",
      " -0.05119712 -0.12911126  0.05609464 -0.05020888 -0.00067347 -0.06934044\n",
      "  0.04914101 -0.02547472 -0.04422383 -0.08582165  0.0212256   0.07036908\n",
      " -0.03861711  0.04010524  0.00439128  0.01612352  0.05399251  0.02874391\n",
      "  0.00699702 -0.05546151  0.01486988  0.03678531  0.06754802 -0.03870323\n",
      " -0.04537577  0.10031466  0.01405207 -0.06726795  0.02544037 -0.00948917\n",
      " -0.06166853  0.05966815 -0.00252626  0.04691284 -0.03702435 -0.01390846\n",
      "  0.09249323 -0.02168478 -0.03702435  0.01405207  0.09867957 -0.00396903\n",
      " -0.02129059 -0.0380096  -0.01296423 -0.04697656 -0.02291952 -0.05062425\n",
      " -0.03114645 -0.00535935 -0.03906603 -0.04415809 -0.000798   -0.05531131\n",
      " -0.01071069  0.03556797  0.05207555 -0.00019437  0.06636237  0.0594985\n",
      "  0.07056942  0.05650864 -0.04968784  0.052161    0.01656785 -0.03702435\n",
      "  0.04691284  0.023197   -0.0261712  -0.07666027 -0.0261712  -0.0261712\n",
      " -0.0261712   0.1642144  -0.00545972 -0.01568843  0.13658239 -0.06495093\n",
      " -0.0152952   0.03851114 -0.02444185  0.04691284  0.07003696  0.00699702\n",
      " -0.02223271 -0.03768481 -0.05029337  0.02697914 -0.02724173  0.00699702\n",
      "  0.13085004 -0.07872973  0.04768153 -0.05860096  0.03470095  0.023197\n",
      " -0.01314635 -0.01568843  0.01568843 -0.09249323  0.09249323]\n"
     ]
    }
   ],
   "source": [
    "\"As we can see above there are Nan values present in some columns\"\n",
    "\"so we fill those nan values with the mean of that column\"\n",
    "#Obtain mean of columns where Nan is present, nanmean is just convenient.\n",
    "column_mean = np.nanmean(X_test, axis=0)\n",
    "print(column_mean)"
   ]
  },
  {
   "cell_type": "code",
   "execution_count": 75,
   "metadata": {},
   "outputs": [],
   "source": [
    "#Finding indices that need to replaced\n",
    "Indices = np.where(np.isnan(X_test))\n"
   ]
  },
  {
   "cell_type": "code",
   "execution_count": 76,
   "metadata": {},
   "outputs": [],
   "source": [
    "#Place column means in the indices. Align the arrays using take\n",
    "X_test[Indices] = np.take(column_mean, Indices[1])"
   ]
  },
  {
   "cell_type": "code",
   "execution_count": 77,
   "metadata": {},
   "outputs": [
    {
     "name": "stdout",
     "output_type": "stream",
     "text": [
      "322\n",
      "281\n"
     ]
    }
   ],
   "source": [
    "print(X_test.shape[0])\n",
    "print(X_test.shape[1])"
   ]
  },
  {
   "cell_type": "code",
   "execution_count": 78,
   "metadata": {},
   "outputs": [
    {
     "name": "stdout",
     "output_type": "stream",
     "text": [
      "[11.56647571 12.51356102 11.77529742 ... 11.94795585 12.37370772\n",
      " 12.10016198]\n"
     ]
    }
   ],
   "source": [
    "print(y_train_SalePrice)\n"
   ]
  },
  {
   "cell_type": "code",
   "execution_count": 79,
   "metadata": {},
   "outputs": [
    {
     "data": {
      "text/plain": [
       "(1138,)"
      ]
     },
     "execution_count": 79,
     "metadata": {},
     "output_type": "execute_result"
    }
   ],
   "source": [
    "y_train_SalePrice.shape"
   ]
  },
  {
   "cell_type": "code",
   "execution_count": 80,
   "metadata": {},
   "outputs": [],
   "source": [
    "def hypothesis(theta, X, n):\n",
    "    h = np.ones((X.shape[0],1))\n",
    "    theta = theta.reshape(1,n+1)\n",
    "    for i in range(0,X.shape[0]):\n",
    "        h[i] = float(np.matmul(theta, X[i]))\n",
    "    h = h.reshape(X.shape[0])\n",
    "    return h\n",
    "def BatchGradientDescent(theta, alpha, num_iters, h, X, y, n):\n",
    "    cost = np.ones(num_iters)\n",
    "    for i in range(0,num_iters):\n",
    "        theta[0] = theta[0] - (alpha/X.shape[0])*(sum(h - y))\n",
    "        for j in range(1,n+1):\n",
    "            theta[j] = theta[j] - (alpha/X.shape[0])*sum((h-y)* X.transpose()[j])\n",
    "        h = hypothesis(theta, X, n)\n",
    "        cost[i] = (1/X.shape[0]) * 0.5 * sum(np.square(h - y))\n",
    "    theta = theta.reshape(1,n+1)\n",
    "    return theta, cost\n",
    "def linear_regression(X, y, alpha, num_iters):\n",
    "    n = X.shape[1]\n",
    "    one_column = np.ones((X.shape[0],1))\n",
    "    X = np.concatenate((one_column, X), axis = 1)\n",
    "    # initializing the parameter vector...\n",
    "    theta = np.zeros(n+1)\n",
    "    # hypothesis calculation....\n",
    "    h = hypothesis(theta, X, n)\n",
    "    # returning the optimized parameters by Gradient Descent...\n",
    "    theta, cost = BatchGradientDescent(theta,alpha,num_iters,h,X,y,n)\n",
    "    return theta, cost"
   ]
  },
  {
   "cell_type": "code",
   "execution_count": 81,
   "metadata": {},
   "outputs": [],
   "source": [
    "# calling the principal function with learning_rate = 0.04 and \n",
    "# num_iters = 90000''''''''''''''''''''''''''''''''''''''''''''''''''\n",
    "theta, cost = linear_regression(X,y_train_SalePrice,0.04,90000)"
   ]
  },
  {
   "cell_type": "code",
   "execution_count": 82,
   "metadata": {},
   "outputs": [
    {
     "data": {
      "text/plain": [
       "Text(0, 0.5, 'Cost')"
      ]
     },
     "execution_count": 82,
     "metadata": {},
     "output_type": "execute_result"
    },
    {
     "data": {
      "image/png": "[encoded data removed]",
      "text/plain": [
       "<Figure size 432x288 with 1 Axes>"
      ]
     },
     "metadata": {
      "needs_background": "light"
     },
     "output_type": "display_data"
    }
   ],
   "source": [
    "import matplotlib.pyplot as plt\n",
    "cost = list(cost)\n",
    "n_iterations = [x for x in range(1,90001)]\n",
    "plt.plot(n_iterations, cost)\n",
    "plt.xlabel('No. of iterations')\n",
    "plt.ylabel('Cost')"
   ]
  },
  {
   "cell_type": "code",
   "execution_count": 83,
   "metadata": {},
   "outputs": [],
   "source": [
    "X_test = np.concatenate((np.ones((X_test.shape[0],1)), X_test),axis = 1)\n",
    "predictions = hypothesis(theta,X_test, X_test.shape[1] - 1)"
   ]
  },
  {
   "cell_type": "code",
   "execution_count": 84,
   "metadata": {},
   "outputs": [],
   "source": [
    "def get_mape(y_true, y_pred): \n",
    "    \"\"\"\n",
    "    Compute mean absolute percentage error (MAPE)\n",
    "    \"\"\"\n",
    "    y_true, y_pred = np.array(y_true), np.array(y_pred)\n",
    "    return np.mean(np.abs((y_true - y_pred) / y_true)) * 100"
   ]
  },
  {
   "cell_type": "code",
   "execution_count": 85,
   "metadata": {},
   "outputs": [],
   "source": [
    "predictions_SalePrice=np.exp(predictions)\n",
    "y_SalePrice_transformed=np.exp(y_actual_SalePrice)"
   ]
  },
  {
   "cell_type": "code",
   "execution_count": 86,
   "metadata": {},
   "outputs": [
    {
     "name": "stdout",
     "output_type": "stream",
     "text": [
      "12.00033867680888\n"
     ]
    }
   ],
   "source": [
    "mape = get_mape(y_SalePrice_transformed,predictions_SalePrice)\n",
    "print(mape)"
   ]
  },
  {
   "cell_type": "code",
   "execution_count": 87,
   "metadata": {},
   "outputs": [],
   "source": [
    "def calculateRMSE(Y_test, predictedTarget):\n",
    "    \"\"\"\n",
    "    Compute Root Mean Square Error (RMSE)\n",
    "    \"\"\"\n",
    "    modelRMSE = np.sqrt(sum((Y_test - predictedTarget) ** 2) / (Y_test.shape[0]));\n",
    "    return modelRMSE;"
   ]
  },
  {
   "cell_type": "code",
   "execution_count": 88,
   "metadata": {},
   "outputs": [
    {
     "name": "stdout",
     "output_type": "stream",
     "text": [
      "2.5909037603518024\n"
     ]
    }
   ],
   "source": [
    "rmse=calculateRMSE(y_actual_SalePrice,predictions)\n",
    "print(rmse)"
   ]
  },
  {
   "cell_type": "code",
   "execution_count": null,
   "metadata": {},
   "outputs": [],
   "source": []
  }
 ],
 "metadata": {
  "kernelspec": {
   "display_name": "Python 3",
   "language": "python",
   "name": "python3"
  },
  "language_info": {
   "codemirror_mode": {
    "name": "ipython",
    "version": 3
   },
   "file_extension": ".py",
   "mimetype": "text/x-python",
   "name": "python",
   "nbconvert_exporter": "python",
   "pygments_lexer": "ipython3",
   "version": "3.7.4"
  }
 },
 "nbformat": 4,
 "nbformat_minor": 2
}
