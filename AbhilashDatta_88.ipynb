{
 "cells": [
  {
   "cell_type": "code",
   "execution_count": 1,
   "metadata": {},
   "outputs": [],
   "source": [
    "import numpy as np\n",
    "import pandas as pd\n",
    "import matplotlib.pyplot as plt\n",
    "import seaborn as sns \n",
    "\n",
    "#reading files\n",
    "df=pd.read_csv(\"Testfile.csv\")\n",
    "tf=pd.read_csv(\"Trainfile.csv\")"
   ]
  },
  {
   "cell_type": "code",
   "execution_count": 2,
   "metadata": {},
   "outputs": [
    {
     "name": "stdout",
     "output_type": "stream",
     "text": [
      "   Idx  MSSubClass MSZoning  LotFrontage  LotArea Street Alley LotShape  \\\n",
      "0    1          20       RL         68.0     9571   Pave   NaN      Reg   \n",
      "1    2          20       RL          NaN     9790   Pave   NaN      Reg   \n",
      "2    3          60       RL         41.0    12393   Pave   NaN      IR2   \n",
      "3    4          20       RL        100.0    10004   Pave   NaN      Reg   \n",
      "4    5          45       RL         55.0     5500   Pave   NaN      Reg   \n",
      "\n",
      "  LandContour Utilities  ... PoolArea PoolQC  Fence MiscFeature MiscVal  \\\n",
      "0         Lvl    AllPub  ...        0    NaN    NaN         NaN       0   \n",
      "1         Lvl    AllPub  ...        0    NaN    NaN         NaN       0   \n",
      "2         Lvl    AllPub  ...        0    NaN    NaN         NaN       0   \n",
      "3         Lvl    AllPub  ...        0    NaN    NaN         NaN       0   \n",
      "4         Lvl    AllPub  ...        0    NaN  MnPrv         NaN       0   \n",
      "\n",
      "  MoSold YrSold  SaleType  SaleCondition  SalePrice  \n",
      "0      6   2009       COD        Abnorml      60000  \n",
      "1      9   2009        WD         Normal     161500  \n",
      "2      9   2006        WD         Normal     195000  \n",
      "3      2   2009        WD         Normal     167000  \n",
      "4      4   2007        WD         Normal     103200  \n",
      "\n",
      "[5 rows x 81 columns]\n",
      "   Idx  MSSubClass MSZoning  LotFrontage  LotArea Street Alley LotShape  \\\n",
      "0    1          45       RL         59.0     7227   Pave   NaN      Reg   \n",
      "1    2          60       RL          NaN    12227   Pave   NaN      IR1   \n",
      "2    3          20       RL         65.0     7800   Pave   NaN      Reg   \n",
      "3    4          60       RL         88.0    12665   Pave   NaN      IR1   \n",
      "4    5          20       RL        105.0    15431   Pave   NaN      Reg   \n",
      "\n",
      "  LandContour Utilities  ... PoolArea PoolQC  Fence MiscFeature MiscVal  \\\n",
      "0         HLS    AllPub  ...        0    NaN    NaN         NaN       0   \n",
      "1         Lvl    AllPub  ...        0    NaN    NaN         NaN       0   \n",
      "2         Lvl    AllPub  ...        0    NaN  MnPrv         NaN       0   \n",
      "3         Lvl    AllPub  ...        0    NaN    NaN         NaN       0   \n",
      "4         Lvl    AllPub  ...        0    NaN    NaN         NaN       0   \n",
      "\n",
      "  MoSold YrSold  SaleType  SaleCondition  SalePrice  \n",
      "0      6   2008        WD         Normal     105500  \n",
      "1      7   2008        WD         Normal     272000  \n",
      "2      6   2009        WD         Normal     130000  \n",
      "3      2   2007        WD         Normal     281213  \n",
      "4      4   2009        WD         Normal     555000  \n",
      "\n",
      "[5 rows x 81 columns]\n"
     ]
    }
   ],
   "source": [
    "print(df.head())\n",
    "print(tf.head())"
   ]
  },
  {
   "cell_type": "markdown",
   "metadata": {},
   "source": [
    "Data Preprocessing"
   ]
  },
  {
   "cell_type": "code",
   "execution_count": 3,
   "metadata": {},
   "outputs": [],
   "source": [
    "X=df.drop(['Idx','SalePrice'],1)\n",
    "Y=df.SalePrice\n",
    "x=tf.drop(['Idx','SalePrice'],1)\n",
    "y=tf.SalePrice"
   ]
  },
  {
   "cell_type": "code",
   "execution_count": 4,
   "metadata": {},
   "outputs": [
    {
     "name": "stdout",
     "output_type": "stream",
     "text": [
      "      MSSubClass MSZoning  LotFrontage  LotArea Street Alley LotShape  \\\n",
      "0             45       RL         59.0     7227   Pave   NaN      Reg   \n",
      "1             60       RL          NaN    12227   Pave   NaN      IR1   \n",
      "2             20       RL         65.0     7800   Pave   NaN      Reg   \n",
      "3             60       RL         88.0    12665   Pave   NaN      IR1   \n",
      "4             20       RL        105.0    15431   Pave   NaN      Reg   \n",
      "...          ...      ...          ...      ...    ...   ...      ...   \n",
      "1133          20       RL         64.0     6762   Pave   NaN      Reg   \n",
      "1134          80       RL         88.0     8471   Pave   NaN      IR1   \n",
      "1135          20       RL         70.0     8414   Pave   NaN      Reg   \n",
      "1136          20       RL          NaN    11838   Pave   NaN      Reg   \n",
      "1137          20       RL         85.0    11049   Pave   NaN      Reg   \n",
      "\n",
      "     LandContour Utilities LotConfig  ... ScreenPorch PoolArea PoolQC  Fence  \\\n",
      "0            HLS    AllPub    Corner  ...           0        0    NaN    NaN   \n",
      "1            Lvl    AllPub    Corner  ...           0        0    NaN    NaN   \n",
      "2            Lvl    AllPub    Inside  ...           0        0    NaN  MnPrv   \n",
      "3            Lvl    AllPub    Inside  ...           0        0    NaN    NaN   \n",
      "4            Lvl    AllPub    Inside  ...         170        0    NaN    NaN   \n",
      "...          ...       ...       ...  ...         ...      ...    ...    ...   \n",
      "1133         Lvl    AllPub    Inside  ...           0        0    NaN    NaN   \n",
      "1134         Lvl    AllPub    Corner  ...           0        0    NaN   GdWo   \n",
      "1135         Lvl    AllPub    Inside  ...           0        0    NaN  MnPrv   \n",
      "1136         Lvl    AllPub    Inside  ...           0        0    NaN    NaN   \n",
      "1137         Lvl    AllPub    Corner  ...           0        0    NaN    NaN   \n",
      "\n",
      "     MiscFeature MiscVal  MoSold  YrSold  SaleType  SaleCondition  \n",
      "0            NaN       0       6    2008        WD         Normal  \n",
      "1            NaN       0       7    2008        WD         Normal  \n",
      "2            NaN       0       6    2009        WD         Normal  \n",
      "3            NaN       0       2    2007        WD         Normal  \n",
      "4            NaN       0       4    2009        WD         Normal  \n",
      "...          ...     ...     ...     ...       ...            ...  \n",
      "1133         NaN       0       7    2006       New        Partial  \n",
      "1134         NaN       0       7    2006        WD         Normal  \n",
      "1135         NaN       0       2    2006        WD         Normal  \n",
      "1136         NaN       0       6    2009        WD         Normal  \n",
      "1137         NaN       0       1    2008        WD         Normal  \n",
      "\n",
      "[1138 rows x 79 columns]\n",
      "0       105500\n",
      "1       272000\n",
      "2       130000\n",
      "3       281213\n",
      "4       555000\n",
      "         ...  \n",
      "1133    193879\n",
      "1134    151000\n",
      "1135    154500\n",
      "1136    236500\n",
      "1137    179900\n",
      "Name: SalePrice, Length: 1138, dtype: int64\n"
     ]
    }
   ],
   "source": [
    "print(x)\n",
    "print(y)"
   ]
  },
  {
   "cell_type": "code",
   "execution_count": 5,
   "metadata": {
    "scrolled": true
   },
   "outputs": [
    {
     "name": "stdout",
     "output_type": "stream",
     "text": [
      "feature 'MSZoning' has 5 unique categories\n",
      "feature 'Street' has 2 unique categories\n",
      "feature 'Alley' has 3 unique categories\n",
      "feature 'LotShape' has 4 unique categories\n",
      "feature 'LandContour' has 4 unique categories\n",
      "feature 'Utilities' has 1 unique categories\n",
      "feature 'LotConfig' has 5 unique categories\n",
      "feature 'LandSlope' has 3 unique categories\n",
      "feature 'Neighborhood' has 25 unique categories\n",
      "feature 'Condition1' has 9 unique categories\n",
      "feature 'Condition2' has 5 unique categories\n",
      "feature 'BldgType' has 5 unique categories\n",
      "feature 'HouseStyle' has 8 unique categories\n",
      "feature 'RoofStyle' has 6 unique categories\n",
      "feature 'RoofMatl' has 8 unique categories\n",
      "feature 'Exterior1st' has 14 unique categories\n",
      "feature 'Exterior2nd' has 16 unique categories\n",
      "feature 'MasVnrType' has 5 unique categories\n",
      "feature 'ExterQual' has 4 unique categories\n",
      "feature 'ExterCond' has 4 unique categories\n",
      "feature 'Foundation' has 6 unique categories\n",
      "feature 'BsmtQual' has 5 unique categories\n",
      "feature 'BsmtCond' has 5 unique categories\n",
      "feature 'BsmtExposure' has 5 unique categories\n",
      "feature 'BsmtFinType1' has 7 unique categories\n",
      "feature 'BsmtFinType2' has 7 unique categories\n",
      "feature 'Heating' has 6 unique categories\n",
      "feature 'HeatingQC' has 5 unique categories\n",
      "feature 'CentralAir' has 2 unique categories\n",
      "feature 'Electrical' has 6 unique categories\n",
      "feature 'KitchenQual' has 4 unique categories\n",
      "feature 'Functional' has 7 unique categories\n",
      "feature 'FireplaceQu' has 6 unique categories\n",
      "feature 'GarageType' has 7 unique categories\n",
      "feature 'GarageFinish' has 4 unique categories\n",
      "feature 'GarageQual' has 6 unique categories\n",
      "feature 'GarageCond' has 6 unique categories\n",
      "feature 'PavedDrive' has 3 unique categories\n",
      "feature 'PoolQC' has 4 unique categories\n",
      "feature 'Fence' has 5 unique categories\n",
      "feature 'MiscFeature' has 4 unique categories\n",
      "feature 'SaleType' has 8 unique categories\n",
      "feature 'SaleCondition' has 6 unique categories\n"
     ]
    }
   ],
   "source": [
    "#Encoding data\n",
    "numbers=[]\n",
    "for col_name in x.columns:\n",
    "    if x[col_name].dtypes == 'object':\n",
    "        unique_cat = len(x[col_name].unique())\n",
    "        numbers=numbers+[unique_cat]\n",
    "        print(f\"feature '{col_name}' has {unique_cat} unique categories\")\n",
    "       # print(f\"X['{col_name}']=le.fit_transform(X['{col_name}'])\")\n",
    "       "
   ]
  },
  {
   "cell_type": "code",
   "execution_count": 6,
   "metadata": {},
   "outputs": [],
   "source": [
    "todummy_list=['MSZoning','Street','LotShape','LandContour','LotConfig','LandSlope','Neighborhood','Condition1','Condition2','BldgType','HouseStyle','RoofStyle','RoofMatl','Exterior1st','Exterior2nd','MasVnrType','ExterQual','ExterCond','Foundation','BsmtQual','BsmtCond','BsmtExposure','BsmtFinType1','BsmtFinType2','Heating','HeatingQC','CentralAir','Electrical','KitchenQual','Functional','GarageType','GarageFinish','GarageQual','GarageCond','PavedDrive','SaleType','SaleCondition']"
   ]
  },
  {
   "cell_type": "code",
   "execution_count": 7,
   "metadata": {},
   "outputs": [
    {
     "name": "stdout",
     "output_type": "stream",
     "text": [
      "[5, 2, 3, 4, 4, 1, 5, 3, 25, 9, 5, 5, 8, 6, 8, 14, 16, 5, 4, 4, 6, 5, 5, 5, 7, 7, 6, 5, 2, 6, 4, 7, 6, 7, 4, 6, 6, 3, 4, 5, 4, 8, 6]\n"
     ]
    }
   ],
   "source": [
    "print(numbers)"
   ]
  },
  {
   "cell_type": "code",
   "execution_count": 8,
   "metadata": {},
   "outputs": [
    {
     "data": {
      "text/plain": [
       "PoolQC          320\n",
       "MiscFeature     310\n",
       "Alley           297\n",
       "Fence           265\n",
       "FireplaceQu     150\n",
       "LotFrontage      59\n",
       "GarageType       13\n",
       "GarageFinish     13\n",
       "GarageQual       13\n",
       "GarageCond       13\n",
       "GarageYrBlt      13\n",
       "BsmtCond          7\n",
       "BsmtExposure      7\n",
       "BsmtFinType2      7\n",
       "BsmtFinType1      7\n",
       "BsmtQual          7\n",
       "MasVnrArea        2\n",
       "MasVnrType        2\n",
       "RoofStyle         0\n",
       "RoofMatl          0\n",
       "dtype: int64"
      ]
     },
     "execution_count": 8,
     "metadata": {},
     "output_type": "execute_result"
    }
   ],
   "source": [
    "#Filling the nullvalues\n",
    "X.isnull().sum().sort_values(ascending=False).head(20)"
   ]
  },
  {
   "cell_type": "code",
   "execution_count": 9,
   "metadata": {},
   "outputs": [],
   "source": [
    "#dropping columns with excess null Values\n",
    "X=X.drop(['PoolQC','MiscFeature','Alley','Fence','FireplaceQu','LotFrontage','Utilities'],axis=1)\n",
    "x=x.drop(['PoolQC','MiscFeature','Alley','Fence','FireplaceQu','LotFrontage','Utilities'],axis=1)"
   ]
  },
  {
   "cell_type": "code",
   "execution_count": 10,
   "metadata": {},
   "outputs": [
    {
     "data": {
      "text/plain": [
       "GarageType      13\n",
       "GarageYrBlt     13\n",
       "GarageFinish    13\n",
       "GarageQual      13\n",
       "GarageCond      13\n",
       "BsmtFinType2     7\n",
       "BsmtFinType1     7\n",
       "BsmtExposure     7\n",
       "BsmtCond         7\n",
       "BsmtQual         7\n",
       "MasVnrType       2\n",
       "MasVnrArea       2\n",
       "YearRemodAdd     0\n",
       "ExterQual        0\n",
       "Exterior2nd      0\n",
       "Exterior1st      0\n",
       "ExterCond        0\n",
       "Foundation       0\n",
       "BsmtFinSF1       0\n",
       "RoofMatl         0\n",
       "dtype: int64"
      ]
     },
     "execution_count": 10,
     "metadata": {},
     "output_type": "execute_result"
    }
   ],
   "source": [
    "X.isnull().sum().sort_values(ascending=False).head(20)"
   ]
  },
  {
   "cell_type": "code",
   "execution_count": 11,
   "metadata": {},
   "outputs": [
    {
     "data": {
      "text/plain": [
       "GarageCond      68\n",
       "GarageType      68\n",
       "GarageYrBlt     68\n",
       "GarageFinish    68\n",
       "GarageQual      68\n",
       "BsmtFinType2    31\n",
       "BsmtExposure    31\n",
       "BsmtFinType1    30\n",
       "BsmtCond        30\n",
       "BsmtQual        30\n",
       "MasVnrType       6\n",
       "MasVnrArea       6\n",
       "Electrical       1\n",
       "YearRemodAdd     0\n",
       "ExterQual        0\n",
       "ExterCond        0\n",
       "Exterior2nd      0\n",
       "Foundation       0\n",
       "BsmtFinSF1       0\n",
       "Exterior1st      0\n",
       "dtype: int64"
      ]
     },
     "execution_count": 11,
     "metadata": {},
     "output_type": "execute_result"
    }
   ],
   "source": [
    "x.isnull().sum().sort_values(ascending=False).head(20)"
   ]
  },
  {
   "cell_type": "code",
   "execution_count": 12,
   "metadata": {},
   "outputs": [],
   "source": [
    "#filling null\n",
    "X['BsmtFinType2']=X['BsmtFinType2'].fillna( method ='ffill') \n",
    "X['GarageCond']=X['GarageCond'].fillna( method ='ffill')\n",
    "X['GarageQual']=X['GarageQual'].fillna( method ='ffill')\n",
    "X['BsmtCond']=X['BsmtCond'].fillna( method ='ffill')\n",
    "X['GarageType']=X['GarageType'].fillna( method ='ffill') \n",
    "X['GarageYrBlt']=X['GarageYrBlt'].fillna( method ='ffill') \n",
    "X['GarageFinish']=X['GarageFinish'].fillna( method ='ffill') \n",
    "X['BsmtFinType1']=X['BsmtFinType1'].fillna( method ='ffill') \n",
    "X['BsmtQual']=X['BsmtQual'].fillna( method ='ffill') \n",
    "X['BsmtExposure']=X['BsmtExposure'].fillna( method ='ffill') \n",
    "X['MasVnrType']=X['MasVnrType'].fillna( method ='ffill') \n",
    "X['MasVnrArea']=X['MasVnrArea'].fillna( method ='ffill') "
   ]
  },
  {
   "cell_type": "code",
   "execution_count": 13,
   "metadata": {},
   "outputs": [],
   "source": [
    "x['BsmtFinType2']=x['BsmtFinType2'].fillna( method ='ffill') \n",
    "x['GarageCond']=x['GarageCond'].fillna( method ='ffill')\n",
    "x['GarageQual']=x['GarageQual'].fillna( method ='ffill')\n",
    "x['BsmtCond']=x['BsmtCond'].fillna( method ='ffill')\n",
    "x['GarageType']=x['GarageType'].fillna( method ='ffill') \n",
    "x['GarageYrBlt']=x['GarageYrBlt'].fillna( method ='ffill') \n",
    "x['GarageFinish']=x['GarageFinish'].fillna( method ='ffill') \n",
    "x['BsmtFinType1']=x['BsmtFinType1'].fillna( method ='ffill') \n",
    "x['BsmtQual']=x['BsmtQual'].fillna( method ='ffill') \n",
    "x['BsmtExposure']=x['BsmtExposure'].fillna( method ='ffill') \n",
    "x['MasVnrType']=x['MasVnrType'].fillna( method ='ffill') \n",
    "x['MasVnrArea']=x['MasVnrArea'].fillna( method ='ffill')\n",
    "x['Electrical']=x['Electrical'].fillna( method ='ffill')"
   ]
  },
  {
   "cell_type": "code",
   "execution_count": 14,
   "metadata": {},
   "outputs": [
    {
     "data": {
      "text/plain": [
       "SaleCondition    0\n",
       "SaleType         0\n",
       "Exterior1st      0\n",
       "Exterior2nd      0\n",
       "MasVnrType       0\n",
       "dtype: int64"
      ]
     },
     "execution_count": 14,
     "metadata": {},
     "output_type": "execute_result"
    }
   ],
   "source": [
    "X.isnull().sum().sort_values(ascending=False).head()"
   ]
  },
  {
   "cell_type": "code",
   "execution_count": 15,
   "metadata": {},
   "outputs": [
    {
     "data": {
      "text/plain": [
       "SaleCondition    0\n",
       "SaleType         0\n",
       "Exterior1st      0\n",
       "Exterior2nd      0\n",
       "MasVnrType       0\n",
       "dtype: int64"
      ]
     },
     "execution_count": 15,
     "metadata": {},
     "output_type": "execute_result"
    }
   ],
   "source": [
    "x.isnull().sum().sort_values(ascending=False).head()"
   ]
  },
  {
   "cell_type": "code",
   "execution_count": 16,
   "metadata": {},
   "outputs": [],
   "source": [
    "#final Labelencoding\n",
    "from sklearn.preprocessing import LabelEncoder\n",
    "le= LabelEncoder()\n",
    "for col in todummy_list:\n",
    "    X[col]=le.fit_transform(X[col])\n",
    "    x[col]=le.fit_transform(x[col])"
   ]
  },
  {
   "cell_type": "code",
   "execution_count": 18,
   "metadata": {},
   "outputs": [],
   "source": [
    "#Normalising/scaling the data\n",
    "x =(x-x.mean())/(x.max()-x.min())\n",
    "X=(X-X.mean())/(X.max()-X.min())"
   ]
  },
  {
   "cell_type": "code",
   "execution_count": 19,
   "metadata": {},
   "outputs": [],
   "source": [
    "x=pd.DataFrame(x)\n",
    "y=pd.DataFrame(y)\n",
    "X=pd.DataFrame(X)\n",
    "Y=pd.DataFrame(Y)"
   ]
  },
  {
   "cell_type": "code",
   "execution_count": 20,
   "metadata": {},
   "outputs": [],
   "source": [
    "x=(x.T).to_numpy()\n",
    "y=(y.T).to_numpy()\n",
    "X=(X.T).to_numpy()\n",
    "Y=(Y.T).to_numpy()"
   ]
  },
  {
   "cell_type": "code",
   "execution_count": 21,
   "metadata": {},
   "outputs": [
    {
     "name": "stdout",
     "output_type": "stream",
     "text": [
      "(72, 1138) (1, 1138) (72, 322) (1, 322)\n"
     ]
    }
   ],
   "source": [
    "print(x.shape,y.shape,X.shape,Y.shape)"
   ]
  },
  {
   "cell_type": "markdown",
   "metadata": {},
   "source": [
    "Multivariate Linear Regression Model"
   ]
  },
  {
   "cell_type": "code",
   "execution_count": 22,
   "metadata": {},
   "outputs": [],
   "source": [
    "def initialize_parameters(lenw):\n",
    "    w= np.random.randn(lenw,1)\n",
    "    b = 0\n",
    "    return w,b"
   ]
  },
  {
   "cell_type": "code",
   "execution_count": 23,
   "metadata": {},
   "outputs": [],
   "source": [
    "def cost_function(x,y,w,b):\n",
    "    z = np.dot(w.T,x)+b\n",
    "    m = x.shape[1]\n",
    "    J = (1/2*m)*np.sum(np.square(z - y))\n",
    "    return J"
   ]
  },
  {
   "cell_type": "code",
   "execution_count": 24,
   "metadata": {},
   "outputs": [],
   "source": [
    "def forward_n_backward_prop(x,y,w,b):\n",
    "    m = x.shape[1]\n",
    "    z = np.dot(w.T,x)+b\n",
    "    dw = np.dot(x,(z-y).T)/m\n",
    "    db = np.sum(z-y)/m\n",
    "    return dw,db    "
   ]
  },
  {
   "cell_type": "code",
   "execution_count": 25,
   "metadata": {},
   "outputs": [],
   "source": [
    "def gradient_descent_update(x,y,w,b,alpha,iters):\n",
    "    costs=[]\n",
    "    for i in range(iters):\n",
    "        dw,db = forward_n_backward_prop(x,y,w,b)\n",
    "        cost = cost_function(x,y,w,b)\n",
    "        w = w-dw*alpha\n",
    "        b = b-db*alpha\n",
    "        \n",
    "        if i%100==0 and i!=0:\n",
    "            costs.append(cost)\n",
    "            print('Updated cost after ',i,' iterations= ',cost)\n",
    "            \n",
    "    return w,b,costs"
   ]
  },
  {
   "cell_type": "code",
   "execution_count": 26,
   "metadata": {},
   "outputs": [],
   "source": [
    "def prediction(w,b,x):\n",
    "    m = x.shape[1]\n",
    "    Y_pred = np.zeros((1,m))\n",
    "    w = w.reshape(x.shape[0], 1)\n",
    "    \n",
    "    z = np.dot(w.T,x) + b\n",
    "    \n",
    "    for i in range(z.shape[1]):\n",
    "        Y_pred[0,i] = z[0,i]\n",
    "    \n",
    "    return Y_pred"
   ]
  },
  {
   "cell_type": "code",
   "execution_count": 28,
   "metadata": {},
   "outputs": [],
   "source": [
    "def linear_regression_model(x,y,X,Y,alpha,iters):\n",
    "    ct_list=[]\n",
    "    \n",
    "    lenw = x.shape[0]\n",
    "    w,b = initialize_parameters(lenw)\n",
    "    \n",
    "    w,b,ct_list = gradient_descent_update(x,y,w,b,alpha,iters)    \n",
    "    y_prediction = prediction(w,b,x)\n",
    "    Y_prediction = prediction(w,b,X)\n",
    "    \n",
    "    mean_y=np.mean(y)\n",
    "    mean_Y=np.mean(Y)\n",
    "    \n",
    "    train_MAPE = (np.mean(np.abs(y_prediction-y))*100)/mean_y\n",
    "    test_MAPE = (np.mean(np.abs(Y_prediction-Y))*100)/mean_Y\n",
    "    \n",
    "    print(\"training MAPE: \",train_MAPE)\n",
    "    print(\"test MAPE: \",test_MAPE)\n",
    "    print('AbhilashDatta_'+str(100-test_MAPE)+'.ipynb')\n",
    " \n",
    "    plt.plot(ct_list)\n",
    "    plt.xlabel('Iterations (per tens)')\n",
    "    plt.ylabel('Training cost')\n",
    "    plt.title('Learning rate '+str(alpha))\n",
    "    plt.show()"
   ]
  },
  {
   "cell_type": "code",
   "execution_count": 29,
   "metadata": {},
   "outputs": [
    {
     "name": "stdout",
     "output_type": "stream",
     "text": [
      "Updated cost after  100  iterations=  1.7266400895153096e+16\n",
      "Updated cost after  200  iterations=  1.227175226287849e+16\n",
      "Updated cost after  300  iterations=  8872134509996193.0\n",
      "Updated cost after  400  iterations=  6550711786541425.0\n",
      "Updated cost after  500  iterations=  4959270738881082.0\n",
      "Updated cost after  600  iterations=  3862978980764718.5\n",
      "Updated cost after  700  iterations=  3103288057764218.5\n",
      "Updated cost after  800  iterations=  2573011343532480.5\n",
      "Updated cost after  900  iterations=  2199573366854565.2\n",
      "Updated cost after  1000  iterations=  1933745179136511.2\n",
      "Updated cost after  1100  iterations=  1742064166529659.8\n",
      "Updated cost after  1200  iterations=  1601729367578637.5\n",
      "Updated cost after  1300  iterations=  1497160838740531.0\n",
      "Updated cost after  1400  iterations=  1417678236687973.5\n",
      "Updated cost after  1500  iterations=  1355932672085593.0\n",
      "Updated cost after  1600  iterations=  1306845935978313.2\n",
      "Updated cost after  1700  iterations=  1266891782640215.0\n",
      "Updated cost after  1800  iterations=  1233608062353221.0\n",
      "Updated cost after  1900  iterations=  1205264844856244.8\n",
      "Updated cost after  2000  iterations=  1180638100785046.2\n",
      "Updated cost after  2100  iterations=  1158854932489476.0\n",
      "Updated cost after  2200  iterations=  1139287395687510.8\n",
      "Updated cost after  2300  iterations=  1121479393221896.5\n",
      "Updated cost after  2400  iterations=  1105096135478201.5\n",
      "Updated cost after  2500  iterations=  1089889043533021.6\n",
      "Updated cost after  2600  iterations=  1075671254568539.2\n",
      "Updated cost after  2700  iterations=  1062300433121756.9\n",
      "Updated cost after  2800  iterations=  1049666637389008.6\n",
      "Updated cost after  2900  iterations=  1037683699207943.2\n",
      "Updated cost after  3000  iterations=  1026283058607161.2\n",
      "Updated cost after  3100  iterations=  1015409322443812.4\n",
      "Updated cost after  3200  iterations=  1005017041189539.9\n",
      "Updated cost after  3300  iterations=  995068351813751.6\n",
      "Updated cost after  3400  iterations=  985531240544900.1\n",
      "Updated cost after  3500  iterations=  976378252354396.6\n",
      "Updated cost after  3600  iterations=  967585524666856.8\n",
      "Updated cost after  3700  iterations=  959132058091891.6\n",
      "Updated cost after  3800  iterations=  950999161686107.2\n",
      "Updated cost after  3900  iterations=  943170027657200.2\n",
      "Updated cost after  4000  iterations=  935629402751088.4\n",
      "Updated cost after  4100  iterations=  928363332352793.9\n",
      "Updated cost after  4200  iterations=  921358959639996.9\n",
      "Updated cost after  4300  iterations=  914604366686255.6\n",
      "Updated cost after  4400  iterations=  908088447727408.0\n",
      "Updated cost after  4500  iterations=  901800807234576.5\n",
      "Updated cost after  4600  iterations=  895731677229853.8\n",
      "Updated cost after  4700  iterations=  889871849612186.5\n",
      "Updated cost after  4800  iterations=  884212620256305.9\n",
      "Updated cost after  4900  iterations=  878745742396226.1\n",
      "Updated cost after  5000  iterations=  873463387371314.0\n",
      "Updated cost after  5100  iterations=  868358111243835.5\n",
      "Updated cost after  5200  iterations=  863422826126390.1\n",
      "Updated cost after  5300  iterations=  858650775310732.1\n",
      "Updated cost after  5400  iterations=  854035511484721.9\n",
      "Updated cost after  5500  iterations=  849570877475356.9\n",
      "Updated cost after  5600  iterations=  845250989073348.6\n",
      "Updated cost after  5700  iterations=  841070219586333.9\n",
      "Updated cost after  5800  iterations=  837023185839465.2\n",
      "Updated cost after  5900  iterations=  833104735398324.5\n",
      "Updated cost after  6000  iterations=  829309934833283.1\n",
      "Updated cost after  6100  iterations=  825634058879269.1\n",
      "Updated cost after  6200  iterations=  822072580372414.1\n",
      "Updated cost after  6300  iterations=  818621160866866.9\n",
      "Updated cost after  6400  iterations=  815275641852371.1\n",
      "Updated cost after  6500  iterations=  812032036506987.0\n",
      "Updated cost after  6600  iterations=  808886521930354.8\n",
      "Updated cost after  6700  iterations=  805835431811713.8\n",
      "Updated cost after  6800  iterations=  802875249493970.2\n",
      "Updated cost after  6900  iterations=  800002601400836.4\n",
      "Updated cost after  7000  iterations=  797214250798680.4\n",
      "Updated cost after  7100  iterations=  794507091868502.0\n",
      "Updated cost after  7200  iterations=  791878144066527.4\n",
      "Updated cost after  7300  iterations=  789324546754446.4\n",
      "Updated cost after  7400  iterations=  786843554082421.8\n",
      "Updated cost after  7500  iterations=  784432530109731.9\n",
      "Updated cost after  7600  iterations=  782088944149387.9\n",
      "Updated cost after  7700  iterations=  779810366324296.9\n",
      "Updated cost after  7800  iterations=  777594463323600.5\n",
      "Updated cost after  7900  iterations=  775438994348725.5\n",
      "Updated cost after  8000  iterations=  773341807239470.9\n",
      "Updated cost after  8100  iterations=  771300834771144.2\n",
      "Updated cost after  8200  iterations=  769314091114356.2\n",
      "Updated cost after  8300  iterations=  767379668449641.1\n",
      "Updated cost after  8400  iterations=  765495733729524.9\n",
      "Updated cost after  8500  iterations=  763660525581124.2\n",
      "Updated cost after  8600  iterations=  761872351342734.2\n",
      "Updated cost after  8700  iterations=  760129584228235.2\n",
      "Updated cost after  8800  iterations=  758430660613472.9\n",
      "Updated cost after  8900  iterations=  756774077439076.0\n",
      "Updated cost after  9000  iterations=  755158389724456.5\n",
      "Updated cost after  9100  iterations=  753582208188002.8\n",
      "Updated cost after  9200  iterations=  752044196968724.0\n",
      "Updated cost after  9300  iterations=  750543071444827.4\n",
      "Updated cost after  9400  iterations=  749077596144941.1\n",
      "Updated cost after  9500  iterations=  747646582747886.0\n",
      "Updated cost after  9600  iterations=  746248888167098.2\n",
      "Updated cost after  9700  iterations=  744883412715990.1\n",
      "Updated cost after  9800  iterations=  743549098350701.5\n",
      "Updated cost after  9900  iterations=  742244926986863.6\n",
      "training MAPE:  11.932997406538012\n",
      "test MAPE:  12.142968204859825\n",
      "AbhilashDatta_87.85703179514017.ipynb\n"
     ]
    },
    {
     "data": {
      "image/png": "[encoded data removed]",
      "text/plain": [
       "<Figure size 432x288 with 1 Axes>"
      ]
     },
     "metadata": {
      "needs_background": "light"
     },
     "output_type": "display_data"
    }
   ],
   "source": [
    "linear_regression_model(x,y,X,Y,0.002,10000)"
   ]
  }
 ],
 "metadata": {
  "kernelspec": {
   "display_name": "Python 3",
   "language": "python",
   "name": "python3"
  },
  "language_info": {
   "codemirror_mode": {
    "name": "ipython",
    "version": 3
   },
   "file_extension": ".py",
   "mimetype": "text/x-python",
   "name": "python",
   "nbconvert_exporter": "python",
   "pygments_lexer": "ipython3",
   "version": "3.7.4"
  }
 },
 "nbformat": 4,
 "nbformat_minor": 2
}
